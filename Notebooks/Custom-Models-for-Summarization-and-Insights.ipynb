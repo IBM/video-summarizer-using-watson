{
 "cells": [
  {
   "cell_type": "markdown",
   "metadata": {},
   "source": [
    "## Deep Learning Speech Summarization using Transformers"
   ]
  },
  {
   "cell_type": "markdown",
   "metadata": {},
   "source": [
    "#### Build a Deep Learning Model for Summarization"
   ]
  },
  {
   "cell_type": "code",
   "execution_count": 1,
   "metadata": {},
   "outputs": [
    {
     "name": "stdout",
     "output_type": "stream",
     "text": [
      "Defaulting to user installation because normal site-packages is not writeable\n",
      "Requirement already satisfied: transformers==4.11.3 in /Users/sharath/Library/Python/3.8/lib/python/site-packages (4.11.3)\n",
      "Requirement already satisfied: tqdm>=4.27 in /Users/sharath/Library/Python/3.8/lib/python/site-packages (from transformers==4.11.3) (4.64.0)\n",
      "Requirement already satisfied: numpy>=1.17 in /Users/sharath/Library/Python/3.8/lib/python/site-packages (from transformers==4.11.3) (1.22.4)\n",
      "Requirement already satisfied: tokenizers<0.11,>=0.10.1 in /Users/sharath/Library/Python/3.8/lib/python/site-packages (from transformers==4.11.3) (0.10.3)\n",
      "Requirement already satisfied: filelock in /Users/sharath/Library/Python/3.8/lib/python/site-packages (from transformers==4.11.3) (3.7.1)\n",
      "Requirement already satisfied: pyyaml>=5.1 in /Users/sharath/Library/Python/3.8/lib/python/site-packages (from transformers==4.11.3) (6.0)\n",
      "Requirement already satisfied: requests in /Users/sharath/Library/Python/3.8/lib/python/site-packages (from transformers==4.11.3) (2.28.0)\n",
      "Requirement already satisfied: regex!=2019.12.17 in /Users/sharath/Library/Python/3.8/lib/python/site-packages (from transformers==4.11.3) (2022.6.2)\n",
      "Requirement already satisfied: huggingface-hub>=0.0.17 in /Users/sharath/Library/Python/3.8/lib/python/site-packages (from transformers==4.11.3) (0.7.0)\n",
      "Requirement already satisfied: packaging>=20.0 in /Users/sharath/Library/Python/3.8/lib/python/site-packages (from transformers==4.11.3) (21.3)\n",
      "Requirement already satisfied: sacremoses in /Users/sharath/Library/Python/3.8/lib/python/site-packages (from transformers==4.11.3) (0.0.53)\n",
      "Requirement already satisfied: typing-extensions>=3.7.4.3 in /Users/sharath/Library/Python/3.8/lib/python/site-packages (from huggingface-hub>=0.0.17->transformers==4.11.3) (4.2.0)\n",
      "Requirement already satisfied: pyparsing!=3.0.5,>=2.0.2 in /Users/sharath/Library/Python/3.8/lib/python/site-packages (from packaging>=20.0->transformers==4.11.3) (3.0.9)\n",
      "Requirement already satisfied: certifi>=2017.4.17 in /Users/sharath/Library/Python/3.8/lib/python/site-packages (from requests->transformers==4.11.3) (2022.5.18.1)\n",
      "Requirement already satisfied: urllib3<1.27,>=1.21.1 in /Users/sharath/Library/Python/3.8/lib/python/site-packages (from requests->transformers==4.11.3) (1.26.9)\n",
      "Requirement already satisfied: charset-normalizer~=2.0.0 in /Users/sharath/Library/Python/3.8/lib/python/site-packages (from requests->transformers==4.11.3) (2.0.12)\n",
      "Requirement already satisfied: idna<4,>=2.5 in /Users/sharath/Library/Python/3.8/lib/python/site-packages (from requests->transformers==4.11.3) (3.3)\n",
      "Requirement already satisfied: click in /Users/sharath/Library/Python/3.8/lib/python/site-packages (from sacremoses->transformers==4.11.3) (8.1.3)\n",
      "Requirement already satisfied: joblib in /Users/sharath/Library/Python/3.8/lib/python/site-packages (from sacremoses->transformers==4.11.3) (1.1.0)\n",
      "Requirement already satisfied: six in /Library/Developer/CommandLineTools/Library/Frameworks/Python3.framework/Versions/3.8/lib/python3.8/site-packages (from sacremoses->transformers==4.11.3) (1.15.0)\n",
      "Defaulting to user installation because normal site-packages is not writeable\n",
      "Requirement already satisfied: summarizer in /Users/sharath/Library/Python/3.8/lib/python/site-packages (0.0.7)\n",
      "Requirement already satisfied: nltk in /Users/sharath/Library/Python/3.8/lib/python/site-packages (from summarizer) (3.7)\n",
      "Requirement already satisfied: joblib in /Users/sharath/Library/Python/3.8/lib/python/site-packages (from nltk->summarizer) (1.1.0)\n",
      "Requirement already satisfied: click in /Users/sharath/Library/Python/3.8/lib/python/site-packages (from nltk->summarizer) (8.1.3)\n",
      "Requirement already satisfied: tqdm in /Users/sharath/Library/Python/3.8/lib/python/site-packages (from nltk->summarizer) (4.64.0)\n",
      "Requirement already satisfied: regex>=2021.8.3 in /Users/sharath/Library/Python/3.8/lib/python/site-packages (from nltk->summarizer) (2022.6.2)\n",
      "Defaulting to user installation because normal site-packages is not writeable\n",
      "Requirement already satisfied: bert-extractive-summarizer in /Users/sharath/Library/Python/3.8/lib/python/site-packages (0.10.1)\n",
      "Requirement already satisfied: scikit-learn in /Users/sharath/Library/Python/3.8/lib/python/site-packages (from bert-extractive-summarizer) (1.1.1)\n",
      "Requirement already satisfied: transformers in /Users/sharath/Library/Python/3.8/lib/python/site-packages (from bert-extractive-summarizer) (4.11.3)\n",
      "Requirement already satisfied: spacy in /Users/sharath/Library/Python/3.8/lib/python/site-packages (from bert-extractive-summarizer) (3.3.1)\n",
      "Requirement already satisfied: threadpoolctl>=2.0.0 in /Users/sharath/Library/Python/3.8/lib/python/site-packages (from scikit-learn->bert-extractive-summarizer) (3.1.0)\n",
      "Requirement already satisfied: scipy>=1.3.2 in /Users/sharath/Library/Python/3.8/lib/python/site-packages (from scikit-learn->bert-extractive-summarizer) (1.8.1)\n",
      "Requirement already satisfied: numpy>=1.17.3 in /Users/sharath/Library/Python/3.8/lib/python/site-packages (from scikit-learn->bert-extractive-summarizer) (1.22.4)\n",
      "Requirement already satisfied: joblib>=1.0.0 in /Users/sharath/Library/Python/3.8/lib/python/site-packages (from scikit-learn->bert-extractive-summarizer) (1.1.0)\n",
      "Requirement already satisfied: jinja2 in /Users/sharath/Library/Python/3.8/lib/python/site-packages (from spacy->bert-extractive-summarizer) (3.1.2)\n",
      "Requirement already satisfied: blis<0.8.0,>=0.4.0 in /Users/sharath/Library/Python/3.8/lib/python/site-packages (from spacy->bert-extractive-summarizer) (0.7.7)\n",
      "Requirement already satisfied: pydantic!=1.8,!=1.8.1,<1.9.0,>=1.7.4 in /Users/sharath/Library/Python/3.8/lib/python/site-packages (from spacy->bert-extractive-summarizer) (1.8.2)\n",
      "Requirement already satisfied: murmurhash<1.1.0,>=0.28.0 in /Users/sharath/Library/Python/3.8/lib/python/site-packages (from spacy->bert-extractive-summarizer) (1.0.7)\n",
      "Requirement already satisfied: cymem<2.1.0,>=2.0.2 in /Users/sharath/Library/Python/3.8/lib/python/site-packages (from spacy->bert-extractive-summarizer) (2.0.6)\n",
      "Requirement already satisfied: pathy>=0.3.5 in /Users/sharath/Library/Python/3.8/lib/python/site-packages (from spacy->bert-extractive-summarizer) (0.6.1)\n",
      "Requirement already satisfied: catalogue<2.1.0,>=2.0.6 in /Users/sharath/Library/Python/3.8/lib/python/site-packages (from spacy->bert-extractive-summarizer) (2.0.7)\n",
      "Requirement already satisfied: spacy-legacy<3.1.0,>=3.0.9 in /Users/sharath/Library/Python/3.8/lib/python/site-packages (from spacy->bert-extractive-summarizer) (3.0.9)\n",
      "Requirement already satisfied: tqdm<5.0.0,>=4.38.0 in /Users/sharath/Library/Python/3.8/lib/python/site-packages (from spacy->bert-extractive-summarizer) (4.64.0)\n",
      "Requirement already satisfied: preshed<3.1.0,>=3.0.2 in /Users/sharath/Library/Python/3.8/lib/python/site-packages (from spacy->bert-extractive-summarizer) (3.0.6)\n",
      "Requirement already satisfied: langcodes<4.0.0,>=3.2.0 in /Users/sharath/Library/Python/3.8/lib/python/site-packages (from spacy->bert-extractive-summarizer) (3.3.0)\n",
      "Requirement already satisfied: srsly<3.0.0,>=2.4.3 in /Users/sharath/Library/Python/3.8/lib/python/site-packages (from spacy->bert-extractive-summarizer) (2.4.3)\n",
      "Requirement already satisfied: packaging>=20.0 in /Users/sharath/Library/Python/3.8/lib/python/site-packages (from spacy->bert-extractive-summarizer) (21.3)\n",
      "Requirement already satisfied: wasabi<1.1.0,>=0.9.1 in /Users/sharath/Library/Python/3.8/lib/python/site-packages (from spacy->bert-extractive-summarizer) (0.9.1)\n",
      "Requirement already satisfied: thinc<8.1.0,>=8.0.14 in /Users/sharath/Library/Python/3.8/lib/python/site-packages (from spacy->bert-extractive-summarizer) (8.0.17)\n",
      "Requirement already satisfied: setuptools in /Library/Developer/CommandLineTools/Library/Frameworks/Python3.framework/Versions/3.8/lib/python3.8/site-packages (from spacy->bert-extractive-summarizer) (49.2.1)\n",
      "Requirement already satisfied: spacy-loggers<2.0.0,>=1.0.0 in /Users/sharath/Library/Python/3.8/lib/python/site-packages (from spacy->bert-extractive-summarizer) (1.0.2)\n",
      "Requirement already satisfied: requests<3.0.0,>=2.13.0 in /Users/sharath/Library/Python/3.8/lib/python/site-packages (from spacy->bert-extractive-summarizer) (2.28.0)\n",
      "Requirement already satisfied: typer<0.5.0,>=0.3.0 in /Users/sharath/Library/Python/3.8/lib/python/site-packages (from spacy->bert-extractive-summarizer) (0.4.1)\n"
     ]
    },
    {
     "name": "stdout",
     "output_type": "stream",
     "text": [
      "Requirement already satisfied: sacremoses in /Users/sharath/Library/Python/3.8/lib/python/site-packages (from transformers->bert-extractive-summarizer) (0.0.53)\n",
      "Requirement already satisfied: regex!=2019.12.17 in /Users/sharath/Library/Python/3.8/lib/python/site-packages (from transformers->bert-extractive-summarizer) (2022.6.2)\n",
      "Requirement already satisfied: huggingface-hub>=0.0.17 in /Users/sharath/Library/Python/3.8/lib/python/site-packages (from transformers->bert-extractive-summarizer) (0.7.0)\n",
      "Requirement already satisfied: pyyaml>=5.1 in /Users/sharath/Library/Python/3.8/lib/python/site-packages (from transformers->bert-extractive-summarizer) (6.0)\n",
      "Requirement already satisfied: tokenizers<0.11,>=0.10.1 in /Users/sharath/Library/Python/3.8/lib/python/site-packages (from transformers->bert-extractive-summarizer) (0.10.3)\n",
      "Requirement already satisfied: filelock in /Users/sharath/Library/Python/3.8/lib/python/site-packages (from transformers->bert-extractive-summarizer) (3.7.1)\n",
      "Requirement already satisfied: typing-extensions>=3.7.4.3 in /Users/sharath/Library/Python/3.8/lib/python/site-packages (from huggingface-hub>=0.0.17->transformers->bert-extractive-summarizer) (4.2.0)\n",
      "Requirement already satisfied: pyparsing!=3.0.5,>=2.0.2 in /Users/sharath/Library/Python/3.8/lib/python/site-packages (from packaging>=20.0->spacy->bert-extractive-summarizer) (3.0.9)\n",
      "Requirement already satisfied: smart-open<6.0.0,>=5.0.0 in /Users/sharath/Library/Python/3.8/lib/python/site-packages (from pathy>=0.3.5->spacy->bert-extractive-summarizer) (5.2.1)\n",
      "Requirement already satisfied: charset-normalizer~=2.0.0 in /Users/sharath/Library/Python/3.8/lib/python/site-packages (from requests<3.0.0,>=2.13.0->spacy->bert-extractive-summarizer) (2.0.12)\n",
      "Requirement already satisfied: certifi>=2017.4.17 in /Users/sharath/Library/Python/3.8/lib/python/site-packages (from requests<3.0.0,>=2.13.0->spacy->bert-extractive-summarizer) (2022.5.18.1)\n",
      "Requirement already satisfied: idna<4,>=2.5 in /Users/sharath/Library/Python/3.8/lib/python/site-packages (from requests<3.0.0,>=2.13.0->spacy->bert-extractive-summarizer) (3.3)\n",
      "Requirement already satisfied: urllib3<1.27,>=1.21.1 in /Users/sharath/Library/Python/3.8/lib/python/site-packages (from requests<3.0.0,>=2.13.0->spacy->bert-extractive-summarizer) (1.26.9)\n",
      "Requirement already satisfied: click<9.0.0,>=7.1.1 in /Users/sharath/Library/Python/3.8/lib/python/site-packages (from typer<0.5.0,>=0.3.0->spacy->bert-extractive-summarizer) (8.1.3)\n",
      "Requirement already satisfied: MarkupSafe>=2.0 in /Users/sharath/Library/Python/3.8/lib/python/site-packages (from jinja2->spacy->bert-extractive-summarizer) (2.1.1)\n",
      "Requirement already satisfied: six in /Library/Developer/CommandLineTools/Library/Frameworks/Python3.framework/Versions/3.8/lib/python3.8/site-packages (from sacremoses->transformers->bert-extractive-summarizer) (1.15.0)\n",
      "Defaulting to user installation because normal site-packages is not writeable\n",
      "Requirement already satisfied: keybert in /Users/sharath/Library/Python/3.8/lib/python/site-packages (0.5.1)\n",
      "Requirement already satisfied: sentence-transformers>=0.3.8 in /Users/sharath/Library/Python/3.8/lib/python/site-packages (from keybert) (2.2.0)\n",
      "Requirement already satisfied: numpy>=1.18.5 in /Users/sharath/Library/Python/3.8/lib/python/site-packages (from keybert) (1.22.4)\n",
      "Requirement already satisfied: scikit-learn>=0.22.2 in /Users/sharath/Library/Python/3.8/lib/python/site-packages (from keybert) (1.1.1)\n",
      "Requirement already satisfied: rich>=10.4.0 in /Users/sharath/Library/Python/3.8/lib/python/site-packages (from keybert) (12.4.4)\n",
      "Requirement already satisfied: commonmark<0.10.0,>=0.9.0 in /Users/sharath/Library/Python/3.8/lib/python/site-packages (from rich>=10.4.0->keybert) (0.9.1)\n",
      "Requirement already satisfied: pygments<3.0.0,>=2.6.0 in /Users/sharath/Library/Python/3.8/lib/python/site-packages (from rich>=10.4.0->keybert) (2.12.0)\n",
      "Requirement already satisfied: typing-extensions<5.0,>=4.0.0 in /Users/sharath/Library/Python/3.8/lib/python/site-packages (from rich>=10.4.0->keybert) (4.2.0)\n",
      "Requirement already satisfied: threadpoolctl>=2.0.0 in /Users/sharath/Library/Python/3.8/lib/python/site-packages (from scikit-learn>=0.22.2->keybert) (3.1.0)\n",
      "Requirement already satisfied: scipy>=1.3.2 in /Users/sharath/Library/Python/3.8/lib/python/site-packages (from scikit-learn>=0.22.2->keybert) (1.8.1)\n",
      "Requirement already satisfied: joblib>=1.0.0 in /Users/sharath/Library/Python/3.8/lib/python/site-packages (from scikit-learn>=0.22.2->keybert) (1.1.0)\n",
      "Requirement already satisfied: transformers<5.0.0,>=4.6.0 in /Users/sharath/Library/Python/3.8/lib/python/site-packages (from sentence-transformers>=0.3.8->keybert) (4.11.3)\n",
      "Requirement already satisfied: torch>=1.6.0 in /Users/sharath/Library/Python/3.8/lib/python/site-packages (from sentence-transformers>=0.3.8->keybert) (1.11.0)\n",
      "Requirement already satisfied: torchvision in /Users/sharath/Library/Python/3.8/lib/python/site-packages (from sentence-transformers>=0.3.8->keybert) (0.12.0)\n",
      "Requirement already satisfied: huggingface-hub in /Users/sharath/Library/Python/3.8/lib/python/site-packages (from sentence-transformers>=0.3.8->keybert) (0.7.0)\n",
      "Requirement already satisfied: sentencepiece in /Users/sharath/Library/Python/3.8/lib/python/site-packages (from sentence-transformers>=0.3.8->keybert) (0.1.96)\n",
      "Requirement already satisfied: tqdm in /Users/sharath/Library/Python/3.8/lib/python/site-packages (from sentence-transformers>=0.3.8->keybert) (4.64.0)\n",
      "Requirement already satisfied: nltk in /Users/sharath/Library/Python/3.8/lib/python/site-packages (from sentence-transformers>=0.3.8->keybert) (3.7)\n",
      "Requirement already satisfied: sacremoses in /Users/sharath/Library/Python/3.8/lib/python/site-packages (from transformers<5.0.0,>=4.6.0->sentence-transformers>=0.3.8->keybert) (0.0.53)\n",
      "Requirement already satisfied: tokenizers<0.11,>=0.10.1 in /Users/sharath/Library/Python/3.8/lib/python/site-packages (from transformers<5.0.0,>=4.6.0->sentence-transformers>=0.3.8->keybert) (0.10.3)\n",
      "Requirement already satisfied: packaging>=20.0 in /Users/sharath/Library/Python/3.8/lib/python/site-packages (from transformers<5.0.0,>=4.6.0->sentence-transformers>=0.3.8->keybert) (21.3)\n",
      "Requirement already satisfied: pyyaml>=5.1 in /Users/sharath/Library/Python/3.8/lib/python/site-packages (from transformers<5.0.0,>=4.6.0->sentence-transformers>=0.3.8->keybert) (6.0)\n",
      "Requirement already satisfied: regex!=2019.12.17 in /Users/sharath/Library/Python/3.8/lib/python/site-packages (from transformers<5.0.0,>=4.6.0->sentence-transformers>=0.3.8->keybert) (2022.6.2)\n",
      "Requirement already satisfied: requests in /Users/sharath/Library/Python/3.8/lib/python/site-packages (from transformers<5.0.0,>=4.6.0->sentence-transformers>=0.3.8->keybert) (2.28.0)\n",
      "Requirement already satisfied: filelock in /Users/sharath/Library/Python/3.8/lib/python/site-packages (from transformers<5.0.0,>=4.6.0->sentence-transformers>=0.3.8->keybert) (3.7.1)\n",
      "Requirement already satisfied: click in /Users/sharath/Library/Python/3.8/lib/python/site-packages (from nltk->sentence-transformers>=0.3.8->keybert) (8.1.3)\n",
      "Requirement already satisfied: pillow!=8.3.*,>=5.3.0 in /Users/sharath/Library/Python/3.8/lib/python/site-packages (from torchvision->sentence-transformers>=0.3.8->keybert) (9.1.1)\n",
      "Requirement already satisfied: pyparsing!=3.0.5,>=2.0.2 in /Users/sharath/Library/Python/3.8/lib/python/site-packages (from packaging>=20.0->transformers<5.0.0,>=4.6.0->sentence-transformers>=0.3.8->keybert) (3.0.9)\n",
      "Requirement already satisfied: idna<4,>=2.5 in /Users/sharath/Library/Python/3.8/lib/python/site-packages (from requests->transformers<5.0.0,>=4.6.0->sentence-transformers>=0.3.8->keybert) (3.3)\n",
      "Requirement already satisfied: charset-normalizer~=2.0.0 in /Users/sharath/Library/Python/3.8/lib/python/site-packages (from requests->transformers<5.0.0,>=4.6.0->sentence-transformers>=0.3.8->keybert) (2.0.12)\n",
      "Requirement already satisfied: certifi>=2017.4.17 in /Users/sharath/Library/Python/3.8/lib/python/site-packages (from requests->transformers<5.0.0,>=4.6.0->sentence-transformers>=0.3.8->keybert) (2022.5.18.1)\n",
      "Requirement already satisfied: urllib3<1.27,>=1.21.1 in /Users/sharath/Library/Python/3.8/lib/python/site-packages (from requests->transformers<5.0.0,>=4.6.0->sentence-transformers>=0.3.8->keybert) (1.26.9)\n"
     ]
    },
    {
     "name": "stdout",
     "output_type": "stream",
     "text": [
      "Requirement already satisfied: six in /Library/Developer/CommandLineTools/Library/Frameworks/Python3.framework/Versions/3.8/lib/python3.8/site-packages (from sacremoses->transformers<5.0.0,>=4.6.0->sentence-transformers>=0.3.8->keybert) (1.15.0)\n",
      "zsh:1: no matches found: keybert[flair]\n",
      "zsh:1: no matches found: keybert[gensim]\n",
      "zsh:1: no matches found: keybert[spacy]\n",
      "zsh:1: no matches found: keybert[use]\n",
      "Defaulting to user installation because normal site-packages is not writeable\n",
      "Requirement already satisfied: spacy in /Users/sharath/Library/Python/3.8/lib/python/site-packages (3.3.1)\n",
      "Requirement already satisfied: langcodes<4.0.0,>=3.2.0 in /Users/sharath/Library/Python/3.8/lib/python/site-packages (from spacy) (3.3.0)\n",
      "Requirement already satisfied: blis<0.8.0,>=0.4.0 in /Users/sharath/Library/Python/3.8/lib/python/site-packages (from spacy) (0.7.7)\n",
      "Requirement already satisfied: requests<3.0.0,>=2.13.0 in /Users/sharath/Library/Python/3.8/lib/python/site-packages (from spacy) (2.28.0)\n",
      "Requirement already satisfied: pathy>=0.3.5 in /Users/sharath/Library/Python/3.8/lib/python/site-packages (from spacy) (0.6.1)\n",
      "Requirement already satisfied: spacy-legacy<3.1.0,>=3.0.9 in /Users/sharath/Library/Python/3.8/lib/python/site-packages (from spacy) (3.0.9)\n",
      "Requirement already satisfied: catalogue<2.1.0,>=2.0.6 in /Users/sharath/Library/Python/3.8/lib/python/site-packages (from spacy) (2.0.7)\n",
      "Requirement already satisfied: numpy>=1.15.0 in /Users/sharath/Library/Python/3.8/lib/python/site-packages (from spacy) (1.22.4)\n",
      "Requirement already satisfied: srsly<3.0.0,>=2.4.3 in /Users/sharath/Library/Python/3.8/lib/python/site-packages (from spacy) (2.4.3)\n",
      "Requirement already satisfied: typer<0.5.0,>=0.3.0 in /Users/sharath/Library/Python/3.8/lib/python/site-packages (from spacy) (0.4.1)\n",
      "Requirement already satisfied: tqdm<5.0.0,>=4.38.0 in /Users/sharath/Library/Python/3.8/lib/python/site-packages (from spacy) (4.64.0)\n",
      "Requirement already satisfied: setuptools in /Library/Developer/CommandLineTools/Library/Frameworks/Python3.framework/Versions/3.8/lib/python3.8/site-packages (from spacy) (49.2.1)\n",
      "Requirement already satisfied: cymem<2.1.0,>=2.0.2 in /Users/sharath/Library/Python/3.8/lib/python/site-packages (from spacy) (2.0.6)\n",
      "Requirement already satisfied: spacy-loggers<2.0.0,>=1.0.0 in /Users/sharath/Library/Python/3.8/lib/python/site-packages (from spacy) (1.0.2)\n",
      "Requirement already satisfied: wasabi<1.1.0,>=0.9.1 in /Users/sharath/Library/Python/3.8/lib/python/site-packages (from spacy) (0.9.1)\n",
      "Requirement already satisfied: pydantic!=1.8,!=1.8.1,<1.9.0,>=1.7.4 in /Users/sharath/Library/Python/3.8/lib/python/site-packages (from spacy) (1.8.2)\n",
      "Requirement already satisfied: thinc<8.1.0,>=8.0.14 in /Users/sharath/Library/Python/3.8/lib/python/site-packages (from spacy) (8.0.17)\n",
      "Requirement already satisfied: packaging>=20.0 in /Users/sharath/Library/Python/3.8/lib/python/site-packages (from spacy) (21.3)\n",
      "Requirement already satisfied: jinja2 in /Users/sharath/Library/Python/3.8/lib/python/site-packages (from spacy) (3.1.2)\n",
      "Requirement already satisfied: preshed<3.1.0,>=3.0.2 in /Users/sharath/Library/Python/3.8/lib/python/site-packages (from spacy) (3.0.6)\n",
      "Requirement already satisfied: murmurhash<1.1.0,>=0.28.0 in /Users/sharath/Library/Python/3.8/lib/python/site-packages (from spacy) (1.0.7)\n",
      "Requirement already satisfied: pyparsing!=3.0.5,>=2.0.2 in /Users/sharath/Library/Python/3.8/lib/python/site-packages (from packaging>=20.0->spacy) (3.0.9)\n",
      "Requirement already satisfied: smart-open<6.0.0,>=5.0.0 in /Users/sharath/Library/Python/3.8/lib/python/site-packages (from pathy>=0.3.5->spacy) (5.2.1)\n",
      "Requirement already satisfied: typing-extensions>=3.7.4.3 in /Users/sharath/Library/Python/3.8/lib/python/site-packages (from pydantic!=1.8,!=1.8.1,<1.9.0,>=1.7.4->spacy) (4.2.0)\n",
      "Requirement already satisfied: urllib3<1.27,>=1.21.1 in /Users/sharath/Library/Python/3.8/lib/python/site-packages (from requests<3.0.0,>=2.13.0->spacy) (1.26.9)\n",
      "Requirement already satisfied: idna<4,>=2.5 in /Users/sharath/Library/Python/3.8/lib/python/site-packages (from requests<3.0.0,>=2.13.0->spacy) (3.3)\n",
      "Requirement already satisfied: charset-normalizer~=2.0.0 in /Users/sharath/Library/Python/3.8/lib/python/site-packages (from requests<3.0.0,>=2.13.0->spacy) (2.0.12)\n",
      "Requirement already satisfied: certifi>=2017.4.17 in /Users/sharath/Library/Python/3.8/lib/python/site-packages (from requests<3.0.0,>=2.13.0->spacy) (2022.5.18.1)\n",
      "Requirement already satisfied: click<9.0.0,>=7.1.1 in /Users/sharath/Library/Python/3.8/lib/python/site-packages (from typer<0.5.0,>=0.3.0->spacy) (8.1.3)\n",
      "Requirement already satisfied: MarkupSafe>=2.0 in /Users/sharath/Library/Python/3.8/lib/python/site-packages (from jinja2->spacy) (2.1.1)\n",
      "Defaulting to user installation because normal site-packages is not writeable\n",
      "Requirement already satisfied: gensim==3.8.3 in /Users/sharath/Library/Python/3.8/lib/python/site-packages (3.8.3)\n",
      "Requirement already satisfied: smart-open>=1.8.1 in /Users/sharath/Library/Python/3.8/lib/python/site-packages (from gensim==3.8.3) (5.2.1)\n",
      "Requirement already satisfied: numpy>=1.11.3 in /Users/sharath/Library/Python/3.8/lib/python/site-packages (from gensim==3.8.3) (1.22.4)\n",
      "Requirement already satisfied: scipy>=0.18.1 in /Users/sharath/Library/Python/3.8/lib/python/site-packages (from gensim==3.8.3) (1.8.1)\n",
      "Requirement already satisfied: six>=1.5.0 in /Library/Developer/CommandLineTools/Library/Frameworks/Python3.framework/Versions/3.8/lib/python3.8/site-packages (from gensim==3.8.3) (1.15.0)\n"
     ]
    }
   ],
   "source": [
    "!pip3 install transformers==4.11.3\n",
    "!pip3 install summarizer\n",
    "!pip3 install bert-extractive-summarizer\n",
    "!pip3 install keybert\n",
    "!pip3 install keybert[flair]\n",
    "!pip3 install keybert[gensim]\n",
    "!pip3 install keybert[spacy]\n",
    "!pip3 install keybert[use]\n",
    "!pip3 install spacy\n",
    "!pip3 install \"gensim==3.8.3\""
   ]
  },
  {
   "cell_type": "code",
   "execution_count": 2,
   "metadata": {},
   "outputs": [],
   "source": [
    "from summarizer import Summarizer,TransformerSummarizer"
   ]
  },
  {
   "cell_type": "code",
   "execution_count": 3,
   "metadata": {},
   "outputs": [
    {
     "name": "stdout",
     "output_type": "stream",
     "text": [
      "Welcome and thank you for standing by at this time all participants are in a listen only mode. Today's conference is being recorded if you have any objections you may disconnect at this time. Now I'll turn the meeting over to miss Patricia Murphy with IBM. Ma'am you may begin. Thank you. This is Patricia Murphy vice president of investor relations for IBM. I want to welcome you to our first quarter 2019 earnings presentation. I'm here with Jim Cavanaugh. IBM senior vice president and chief financial officer will post today's prepared remarks on the IBM investor website within a couple of hours and a replay will be available. By this time tomorrow. Some comments made his presentation may be considered forward looking under the private securities litigation Reform Act of 1995 those statements involve factors that could cause our actual results to differ materially. Additional information about these factors is included in the company's SEC filings. Our presentation also includes non gap measures to provide additional information to investors we've provided reconciliation charts. At the end of the presentation and then the 8 K.. Submitted to the FCC before turning the call over to Jim. I want to remind you we recently made changes to our management system and organizational structure or segment reporting for 2019. Has been updated to reflect this business structure we provided to years of historical financial information by quarter. On the same it's a couple of weeks ago and this can be found on our investor website and today we'll be discussing our first quarter results in this new segment structure. So with that I'll turn the call over to Jim. Thanks Patricia. And thanks to all of you for joining us in the first quarter we delivered 18.$2000000000 of revenue which is significant operating leverage we deliver 2.$2000000000 of operating pre tax income and $2.25 of operating earnings per share and we've now generated over $12000000000 of free cash flow over the last year with realization. Well over 100 percent. We had strong performance in offerings that help clients with their digital transformations and journeys to clout. At the same time we continue to take actions to optimize our portfolio. Well investing to lead in the emerging high value areas of the I. T. Industry. You saw this play out in our results are cloud growth accelerated to 12 percent at constant currency our cloud and cognitive software was up 2 percent and our consulting revenue was up 9 percent also both at constant currency. We had significant margin expansion with the operating gross margin up 90 basis points driven by both services segment. And we had solid free cash flow improving margin has been a focus for us in our performance this quarter is the result of actions we've been taking not only our focus on higher value in portfolio optimization but also driving productivity and operational efficiency especially in our services business with this start to the year we are maintaining our full year expectations for operating earnings per share and free cash flow in the first quarter. Our revenue was down less than a point year to year. At constant currency slightly better than our fourth quarter performance are reported revenue as expected. Includes a significant currency had one. As always I'll focus on constant currency performance from a geographic perspective. Are your 2 year revenue growth in the developed markets improved a couple points sequentially consistent with the expectations we discussed last quarter. That said we had weaker performance in the emerging markets in Asia Pacific which impacted our overall revenue performance. Looking at our results by segment we had continued revenue growth in global business services and in our cloud and cognitive software in GBS. As I said we had another quarter of strong growth in consulting as we help clients with their digital reinvention. And we again expanded our margins in GBS in our software segment growth was driven by our hybrid cloud offerings. Security and solution areas like supply chain and want some help in global technology services we're continuing to help our clients implement and manage hybrid multi cloud environment. This is evidenced in the increasing share of our backlog which is now cloud. At the same time consistent with our high value focus we're continuing to take actions to optimize our GPS performance by exiting lower value content. Well this contributes to lower G. P. S. Revenue. We had a higher profit margin and cash contribution. Our systems revenue decline reflecting the IBM Z. Product cycle dynamics and weaker performance and storage across our segments clients continue to be focused on solutions that deliver innovation and growth. So. As we mentioned last quarter. We're seeing an increasing bias towards engagements that provide productivity. And predictability of spend and so our results this quarter reflect our ability to deliver both innovation and productivity helping our clients transition their business models the hybrid cloud. Our cloud revenue growth in the first quarter xcelerated to 12 percent. With R. As a service offerings up 15 percent with this. Our cloud revenue has grown in 19.$5000000000 over the last year over the last several months we've talked about the next chapter of cloud which focuses on shifting mission critical work to the cloud and optimizing everything from supply chains. The core banking systems to address this opportunity enterprises need to be able to move and manage data services and work flows across multiple clouds and I'm prime and they need to be able to address security concerns. Data protection and protocols. Availability and cloud management. This requires a hybrid multi cloud open approach. And so we have been reshaping our business to address this opportunity investing heavily to build capabilities across our business like IBM cloud. IBM cloud private and IBM cloud private for data. The IBM multi club manager cloud garages cloud migration services and cloud optimized system. These are the innovations that are driving. R. 19.$5000000000 of cloud revenue in the first quarter we introduce additional capabilities that will accelerate hybrid cloud adoption including Watson anywhere which makes IBM Watson available on premises as well as on any private or public cloud. End. IBM cloud integration platform which provides a standard way to integrate services and applications across multiple cloud environment more broadly we have built a framework of offerings to facilitate our clients journey to the clout. It is designed to help our clients across the 4 key stages of their clout transformation journey advise move build and manage these offering spring in our cloud and cognitive software. Global business services and global technology service. Leveraging the integrated value of IBM and so we have a strong foundation for the addition of red hat. Together we will be ideally positioned to help our clients shift their business applications to hybrid clout. Well addressing the issues I just mentioned around portability management consistency security remaining open which avoids vendor lock in. This will not only enhance the growth of red hats business after closing. But with all of IBM as we saw more of our data in A. I. Software aren't containers across multiple platforms and more of our services from app modernization. The multi cloud managed services AT IBM. We're investing in building capabilities to be ready to drive the synergy. We're moving through the regulatory process and continue to expect to close in the second half of 2019. Before getting into the financial metrics. I want to lay out the contributors to our year to year operating earnings per share performance especially because there are a couple of larger items in last year's results that impact the dynamics. In fact these larger items contributed. $0.832 benefit to last year's earnings per share which of course creates a headwind to this year's growth and so looking at the driver's. As I said our revenue was down less than one percent at constant currency. But with the stronger dollar revenue was down 4.7 percent at constant margin revenue was ahead when the profit and earnings per share growth last year we took pretax charges associated with the actions to realign our skills. The key opportunities in better position our systems cost structure these together with the benefit of the actions end our ongoing operating efficiencies resulted in strong pre tax income growth and pre tax margin expansion last year we also had a large discrete tax benefits associated with an honest settlement with a much smaller discrete benefit this year tax was a significant headwind to our net income. And finally it lower Cher account contributed to growth putting this all together. We had solid operating leverage and margin expansion offset by a $0.32 impact of last year's significant items resulting in an operating E. PS of $2.25. So now we're getting into profit margin metrics. We continue to drive operating leverage expanding both rose and pre tax margin. Our operating gross margin was up 90 basis points. This was driven by strong performance in both services businesses. To gather up 160 basis points. We also had a year to year benefit from the charge we took last year in systems which was offset by the impact of the IBM Z. Product cycle. Our operating expense was better. 11 percent which resulted in a 2.Benefit in our expense to revenue ratio overall. We've been driving productivity in our business including implementing new ways of working and leveraging automation and if using a I. Into our privacy. This drives operating leverage and provide flexibility to increased investment in areas like hybrid cloud III in blockchain. But we have a few other drivers of our expense performance this quarter including currency and lower workforce rebalancing charges mitigated by our lower level of I. P. Income regarding currency. Well the stronger dollar hurts the top line. It generally helps expense due both to translation. And the benefit of hedging contracts in the first quarter currency helped our your your expense by nearly 6 points. Much of this was reflected in other income and expense. In fact the $200000000 your your change and other income and expense was entirely due to hedging benefits. Remember these hedging gains mitigate the currency impact throughout the piano expense also include the your your reduction of over $500000000 for workforce rebalancing driven by last year's charge. And finally with an expense we absorb the lower level of I. P. Income as it hurts our P. T. I grow by over $200000000 putting this expense performance together with our gross margin expansion pre tax margin was up over 300 basis points. Our operating tax rate was 10 percent including discrete. This is right in line with our all in first quarter expectation of 10 to 11 percent. We provided in January. And as I said earlier this was a significant headwind to our net income growth year to year looking at our cast metrics we generated 1.$7000000000 of free cash flow in the quarter which is up about $350000000 over last year. There's a lot of seasonality in our cash generation and so looking over the last 12 months we generated over $12000000000 of free cash flow. That's 114 percent of our gap net income normalize I'll touch on the cast drivers and uses of cash. A little later. And so now before getting into the segment performance. I want to spend a minute on an overview of our 2019 segment structure as Patricia mention we shared historical information on this new structure a couple weeks ago. As our clients become digital enterprises. They need tighter integration between hybrid cloud and their date in a I. Platforms to unlock value and so we recently made changes to our management system to more effectively address our clients involving needs and in preparation for the acquisition of red hat. The changes also better align our portfolio to the market and the underlying business models. The business changes resulted in 3 adjustments to our segment structure for 2019. First we brought our cloud and cognitive software together in one segment. Second we combined our security services with security software. Consistent with the way we are running that integrated business and then finally we moved the results for the businesses were divested and to the other category. To provide better transparency to the ongoing operational performance of our software and G. B. S. Segment. This includes the pending sale of our collaboration. And I'm print marketing and commerce software date C. L.. The pending sale of the balance of our marketing and commerce software. The center bridge and the just completed sale of arts a terrorist mortgage servicing business and so looking at our new segments we created the cloud and cognitive software segment bringing software platforms and solutions into one segment within this segment. Well report cloud and data platforms which brings together software for hybrid cloud management with data in a I. Platforms cognitive applications includes vertical and domain specific solutions that are built on cloud and data platforms these offerings are increasingly being infused with they all right and then transaction processing platforms includes the middleware and database software that supports our client's mission critical workloads running on Z. O. S. As well as storage software looking at our services segments the scope of global business services segment overall was on change other than moving the device that mortgage servicing business. The other global technology services. It's consistent with the services component of technology services. And cloud platforms excluding security service and then finally. Our systems and global financing segments are also one change now let me get into the segment results starting with our cloud and cognitive software segment we're revenue grew to percent our clients journey to cloud and A. I.. It's now turning to more mission critical workloads. As I just mentioned linking the data. A. I. And applications together with hybrid cloud in a secure way. It's critical for any successful digital reinvention we are uniquely positioned to do this with our comprehensive cloud and data offerings coupled with a deep understanding of our client's work flows and security needs with fitness segment. We had good growth in cloud and data platforms and cognitive application. Well transaction processing platforms was flat. I'll break down some of the drivers behind these areas are cloud and data platforms grew 2 percent we deliver growth this quarter by helping clients build across public and private clouds with IBM cloud private which is you know is built on Lennix containers and Cooper Denny's we help to modernize and integrate applications and environments with our integration and digital business automation platform and then collect and manage data with the hybrid data management platform. All of which grew this quarter this need for tighter integration across hybrid cloud data. N. A. I. Are also driving traction for IBM cloud private for data offering as well as Watson assistant and what's an open scale that run on IBM cloud private for data. We see the value of bringing together the hybrid cloud and data value propositions at a European tax authority which is using our digital business automation platform to redesign their tax process sees around their data lake and approved the taxpayer experience in cognitive applications revenue was up 4 percent growth was led by security as well as solution areas like health supply chain and whether it's security we delivered strong double digit growth with our integrated software and services value proposition. In particular we continue to see good traction with our threat management software and services offerings including Q. Radar and resilient enter security intelligence operations consulting services which detect and respond to security threats for our clients. Panasonic for example is leveraging Q. Radar and related services to strengthen its threat management posture. Panasonic is also piloting. Our next Gen exports threat management offering in Watson health. We had broad based growth across areas including pair provider in government as clients look the harness data to create actionable insight we also had good results from our rather offerings which grew double digits this quarter and reached a new all time high in the number of active users. Transaction processing platforms revenue was consistent with last year as clients continue to commit to our platform for the longer term performance reflects the value we provide clients managing these vital workloads and their preference for predictability and I. T. Spent turning a profit for the segment we expanded pre tax margin by 2 points year to year. This reflects a lower level of workforce rebalancing this year mitigated by headwind and I. P. Income they continued investment in key strategic areas as we look forward essentially all of our software portfolio now runs on Lennix containers orchestrated by Cooper nineties we've introduced new offerings like IBM cloud integration platform. The digital business automation platform and Watson anywhere to further accelerate hybrid cloud adoption. And we have ongoing activities to educate all of IBM's employees on the journey to cloud which includes. Red hat skills. All of this better prepares us for the red hat acquisition moving to global business services. We continue the momentum from last year and delivered another solid quarter revenue grew 4 percent gross margin expanded 280 basis points we again had strong growth in consulting which was up 90 percent its clients embark on their digital journey to a cognitive enterprise. They are turning to G. B. S.. To help them with their strategy and implementation leveraging our deep industry expertise and innovative technology portfolio. The growth this quarter was led by digital strategy and I. Acts as well as consulting for cloud application migrations and our next generation enterprise application practice within cloud application migration GBS cloud advisory services works with enterprises to plan and implement a clear strategy and roadmap. For the hybrid cloud journey we're doing that's what Tribune publishing as they transform from a legacy print company to a digital company helping them determine the right environment for each of their applications and optimizing their migration to the cloud. Our next generation enterprise application offerings assist clients as they build and implement cloud native applications in areas such as workday sales force and S. For Hana. IBM is now leading the market with over 200 S. For Hana impact assessments over 200 implementations and more than 125 goal lives and application management. We are shifting our business the Cloudbase offerings and continue to have good momentum in our cloud migration factory and cloud application development overall application management revenue was flat. Dude I'm going to clients in the traditional application management engagement and then global process services had solid performance in first quarter revenue was up 5 percent with strong performance and risk and compliance along with financial process services. Turning to G. B. S. Profit are gross margin was 26 percent which is up to 180 basis points driven by our mix the higher value offerings. The yield on our productivity and utilization initiatives and a continuing help from currency given our global delivery mix. This enables us to make investments as we prepare for the red hat acquisition such as scaling our existing red hat practice to enhance our journey to cloud offerings for clients leveraging red hat capabilities we're also creating new offerings around advise build move and manage services through industry points of view and platform place in global technology services. As I mentioned last quarter we are taking actions to optimize our portfolio by exiting low value services content to increase margin profit in cash contribution and better position the business for the longer term. G. T. S. Place an important role in I. B. M.'s integrated value proposition building on its deep client relationships to shift our clients the hybrid cloud as we move through last year. We improve GTS profit and margin creating operating leverage this gives us a solid base from which we can deemphasized lower value contract and third party content enabling continued investment for chapter 2 of the clout and delivering sustained margin improvement. This is what we're focused. We saw this play out in the first quarter results as overall revenue decline. But gross margin expanded 110 basis points driven by the make shift a higher value. A live from cloud scale efficiencies and productivity improvement. So now looking at the GTS revenue by line of business infrastructure and cloud services was down 3 percent and technology support services was down to percent within infrastructure and cloud services. We continue to have solid growth in cloud revenue which was up 13 percent. This is driven by the backlog we're cloud is now over 30 percent of the total services outsourcing back well keep in mind most of the crowd opportunities ahead of us. 80 percent of the enterprise workloads which represent mission critical work. Have yet to move to the cloud as clients my great these workloads to a hybrid multi cloud environment. They faced increased complexity in managing their infrastructure. Because we've been running these workloads. We're better positioned to help our clients to build and manage these new environment during the first quarter we announced that we're moving and managing BMP perra ball and Santander. A couple of the largest banks in Europe the hybrid cloud that's on top of companies like Lloyd's Ali ons. Westpac. American Airlines and anthem insurance. The list goes on. That's all mission critical work starting to move and they're moving it with IBM. The portfolio actions I mentioned earlier create flexibility to invest in additional cloud capabilities to capture this high value growing market for example. All right B. M. Services for multi cloud management offering provides a single system to help enterprise simplify the management of the right T. Resources across multiple cloud providers on Prem and varmints and private clouds and as we prepare for the red hat acquisition we are investing to build on our partnership as a services integrator for red hat. To be a leader in hybrid multi cloud service in systems revenue was down 9 percent this quarter with the clients in IBM Z. Reflecting where we are in the product cycle in in storage. Driven by market and competitive dynamics that said we had good performance and power. This quarter IBM Z. Revenue decline 38 percent. I'll remind you we are wrapping on strong performance from last year. When we had 54 percent growth we are 7 quarters into the Z. 14 cycle and the program continues to track I had of the prior program we had strong growth in volumes or ship MIPS and new workload MIPS continue to outpace our standard maps this growth is led by Lennix again this quarter in our single frame Z. 14 designed specifically for cloud data centers remains a growth driver. Our revenue grew for the sixth consecutive quarter up 9 percent driven by Lennix and the full roll out of our power 9 based architecture as clients look to handle more data intensive workloads in A. I.. Hannah and unix. They are turning to power 9 systems these systems are built to handle advanced analytics and cloud environment. Both the high end and entry level offerings posted strong growth this quarter its clients continue to adopt this new technology storage hardware was down 11 percent with the clients in both the high end and midrange offset by continued growth in all flash arrays performance reflects the clients in our high end which is tied to our mainframe cycle and the I'm going competitive dynamics and pricing pressure we are continuing to introduce new innovations and functionality to differentiate in this environment as we look to manage the portfolio for the market shift the flash looking at systems profit pre tax margin was down a point driven by a mix said when due to where we are in the C. 14 cycle so not turning the cash flow we generated 2.$3000000000 in cash from operations in the quarter excluding our financing receivables are free cash flow a 1.$7000000000 is up about $350000000 a year to year this performance results in free cash flow of 12.$2000000000 over the last 12 months and continued strength in our normalized free cash flow realization rate which is 114 percent. Our cap backs decline reflects effective capital management in the strategy I mentioned earlier to de emphasize some lower value content. This reduces our capital requirements and so. Free cash flow came in were we expected. And there is no change in our full year outlook about $12000000000 looking at uses of cash. We returned 2.$3000000000 to shareholders in the quarter including 1.$4000000000 in dividends and over $900000000 of gross share repurchases. That's 10.$3000000000 over the last 12 months. We bought back nearly 7000000 Cher's. And at the end of the quarter we had 2.$4000000000 remaining in our buy back authorization I'll remind you we plan to suspend sherry purchase in 2020 and 2021. As we pay down debt for a red hat acquisition to get back to work targeted leverage ratio. Looking at the balance sheet we closed the quarter with the cash balance of over $18000000000 in total debt of $50000000000. Both of these are up from December as we prepare for the acquisition of red hat. Later in the year about 60 percent of our total debt is in support of our financing business. The leverage in our financing business remains at 9 to one. And the credit quality over financing receivables remain strong at 55 percent investment grade. That's 2 points better than a year ago. As a reminder our financing that will decrease throughout the year as a result of the winding down of our commercial we M. Content. So to summarize free cash flow was on track and our balance sheet reflects the strange required to support our continuing investments and returned to shareholders. So let me make a few summary comments in the quarter and our view of the year before we move on to queue in a in the first quarter we grew 8 T. High value segments led by global business services and cloud and cognitive software. Well our overall revenue reflects the IBM Z. Product cycle dynamics and a focus on de emphasizing lower value work in services across IBM. Our cloud growth xcelerated as we help our clients transition their business models the hybrid environment we had significant margin expansion with gross margin up over 90 basis points this reflects our shift a higher value and our focus on productivity and operational efficiencies. What I characterize as improving fundamentals. We're continuing to prioritize our investments and announce additional actions to divest some businesses that are contributing to the integrated value proposition for our clients. And we're continuing our planning and preparation for the acquisition of red hat with this performance we continue to expect to deliver at least $13.90. Of operating earnings per share at about $12000000000 of free cash flow. I want to remind you what is and is not included in these expectations. And this is consistent with what we discussed last quarter we continue to expect red hat to close in the second half. Because the financial implications to the year are dependent on the timing of the closing. We have not included red hat in the expectations. In contrast the timing of the closing of our 2 remaining announced divestitures does not have a significant impact on the year. That's because we continue to expect the combination of the foregoing profit the gain on sale. The actions to address the structure and stranded costs. Yeah and the resulting benefit from these actions they have minimal impact to our profit and earnings per share for the year and so our guidance assumes these divestitures. Looking at the issue of earnings per share for the year we assume will deliver about 22 percent in the second quarter in line with the last couple of years and then looking at the second half we would expect the growth in the PS to be skewed to the fourth quarter. This assumes will close the software divestitures. In the second quarter with a gain effectively offset by the foregoing profit and the charges for actions to address the structure and stranded costs. In other words we expect it centrally. No impact to the second quarter. Looking at free cash flow we do expect an impact from the divestitures as well as some pre closing financing costs for the red hat acquisition. But with a solid start to the year free cash flow. We are comfortable that we can absorb these headwinds in the full your expectation of about $12000000000 and with that let me turn it back to Patricia for the queue in a. Thank you Jim.\n"
     ]
    }
   ],
   "source": [
    "with open('/data.txt') as f:\n",
    "    body = f.readline()\n",
    "    print(body)"
   ]
  },
  {
   "cell_type": "markdown",
   "metadata": {},
   "source": [
    "#### Count the total number of characters in the text"
   ]
  },
  {
   "cell_type": "code",
   "execution_count": 4,
   "metadata": {},
   "outputs": [
    {
     "name": "stdout",
     "output_type": "stream",
     "text": [
      "29288\n"
     ]
    }
   ],
   "source": [
    "print(len(body))"
   ]
  },
  {
   "cell_type": "markdown",
   "metadata": {},
   "source": [
    "#### Count the total number of words in the text"
   ]
  },
  {
   "cell_type": "code",
   "execution_count": 5,
   "metadata": {},
   "outputs": [
    {
     "name": "stdout",
     "output_type": "stream",
     "text": [
      "4827\n"
     ]
    }
   ],
   "source": [
    "words = len(body.split())\n",
    "print(words)"
   ]
  },
  {
   "cell_type": "markdown",
   "metadata": {},
   "source": [
    "#### Count the total number of sentences in the text"
   ]
  },
  {
   "cell_type": "code",
   "execution_count": 6,
   "metadata": {},
   "outputs": [
    {
     "name": "stdout",
     "output_type": "stream",
     "text": [
      "319\n"
     ]
    }
   ],
   "source": [
    "sentences=body.count('.')\n",
    "print(sentences)"
   ]
  },
  {
   "cell_type": "code",
   "execution_count": 7,
   "metadata": {},
   "outputs": [
    {
     "name": "stderr",
     "output_type": "stream",
     "text": [
      "Some weights of the model checkpoint at bert-large-uncased were not used when initializing BertModel: ['cls.seq_relationship.bias', 'cls.predictions.transform.LayerNorm.weight', 'cls.predictions.transform.dense.bias', 'cls.seq_relationship.weight', 'cls.predictions.decoder.weight', 'cls.predictions.transform.LayerNorm.bias', 'cls.predictions.bias', 'cls.predictions.transform.dense.weight']\n",
      "- This IS expected if you are initializing BertModel from the checkpoint of a model trained on another task or with another architecture (e.g. initializing a BertForSequenceClassification model from a BertForPreTraining model).\n",
      "- This IS NOT expected if you are initializing BertModel from the checkpoint of a model that you expect to be exactly identical (initializing a BertForSequenceClassification model from a BertForSequenceClassification model).\n"
     ]
    },
    {
     "name": "stdout",
     "output_type": "stream",
     "text": [
      "Welcome and thank you for standing by at this time all participants are in a listen only mode. Now I'll turn the meeting over to miss Patricia Murphy with IBM. I want to welcome you to our first quarter 2019 earnings presentation. Has been updated to reflect this business structure we provided to years of historical financial information by quarter. Our cloud revenue has grown in 19.$5000000000 over the last year over the last several months we've talked about the next chapter of cloud which focuses on shifting mission critical work to the cloud and optimizing everything from supply chains. These are the innovations that are driving. Global business services and global technology service. $0.832 benefit to last year's earnings per share which of course creates a headwind to this year's growth and so looking at the driver's. In fact the $200000000 your your change and other income and expense was entirely due to hedging benefits. The changes also better align our portfolio to the market and the underlying business models. Second we combined our security services with security software. Consistent with the way we are running that integrated business and then finally we moved the results for the businesses were divested and to the other category. This includes the pending sale of our collaboration. And I'm print marketing and commerce software date C. L.. The pending sale of the balance of our marketing and commerce software. The center bridge and the just completed sale of arts a terrorist mortgage servicing business and so looking at our new segments we created the cloud and cognitive software segment bringing software platforms and solutions into one segment within this segment. We continue the momentum from last year and delivered another solid quarter revenue grew 4 percent gross margin expanded 280 basis points we again had strong growth in consulting which was up 90 percent its clients embark on their digital journey to a cognitive enterprise. This enables us to make investments as we prepare for the red hat acquisition such as scaling our existing red hat practice to enhance our journey to cloud offerings for clients leveraging red hat capabilities we're also creating new offerings around advise build move and manage services through industry points of view and platform place in global technology services. Our cap backs decline reflects effective capital management in the strategy I mentioned earlier to de emphasize some lower value content. Yeah and the resulting benefit from these actions they have minimal impact to our profit and earnings per share for the year and so our guidance assumes these divestitures.\n"
     ]
    }
   ],
   "source": [
    "bert_model = Summarizer()\n",
    "BERT_summary = ''.join(bert_model(body, ratio=0.1))\n",
    "print(BERT_summary)"
   ]
  },
  {
   "cell_type": "code",
   "execution_count": 8,
   "metadata": {},
   "outputs": [
    {
     "name": "stderr",
     "output_type": "stream",
     "text": [
      "Some weights of the model checkpoint at bert-large-uncased were not used when initializing BertModel: ['cls.seq_relationship.bias', 'cls.predictions.transform.LayerNorm.weight', 'cls.predictions.transform.dense.bias', 'cls.seq_relationship.weight', 'cls.predictions.decoder.weight', 'cls.predictions.transform.LayerNorm.bias', 'cls.predictions.bias', 'cls.predictions.transform.dense.weight']\n",
      "- This IS expected if you are initializing BertModel from the checkpoint of a model trained on another task or with another architecture (e.g. initializing a BertForSequenceClassification model from a BertForPreTraining model).\n",
      "- This IS NOT expected if you are initializing BertModel from the checkpoint of a model that you expect to be exactly identical (initializing a BertForSequenceClassification model from a BertForSequenceClassification model).\n"
     ]
    },
    {
     "name": "stdout",
     "output_type": "stream",
     "text": [
      "Welcome and thank you for standing by at this time all participants are in a listen only mode. So with that I'll turn the call over to Jim. As always I'll focus on constant currency performance from a geographic perspective. This is evidenced in the increasing share of our backlog which is now cloud. Our cloud revenue has grown in 19.$5000000000 over the last year over the last several months we've talked about the next chapter of cloud which focuses on shifting mission critical work to the cloud and optimizing everything from supply chains. $0.832 benefit to last year's earnings per share which of course creates a headwind to this year's growth and so looking at the driver's. This was driven by strong performance in both services businesses. 11 percent which resulted in a 2.Benefit in our expense to revenue ratio overall. The changes also better align our portfolio to the market and the underlying business models. The center bridge and the just completed sale of arts a terrorist mortgage servicing business and so looking at our new segments we created the cloud and cognitive software segment bringing software platforms and solutions into one segment within this segment. Transaction processing platforms revenue was consistent with last year as clients continue to commit to our platform for the longer term performance reflects the value we provide clients managing these vital workloads and their preference for predictability and I. T. Spent turning a profit for the segment we expanded pre tax margin by 2 points year to year. All of this better prepares us for the red hat acquisition moving to global business services. This enables us to make investments as we prepare for the red hat acquisition such as scaling our existing red hat practice to enhance our journey to cloud offerings for clients leveraging red hat capabilities we're also creating new offerings around advise build move and manage services through industry points of view and platform place in global technology services. When we had 54 percent growth we are 7 quarters into the Z. 14 cycle and the program continues to track I had of the prior program we had strong growth in volumes or ship MIPS and new workload MIPS continue to outpace our standard maps this growth is led by Lennix again this quarter in our single frame Z. 14 designed specifically for cloud data centers remains a growth driver. They are turning to power 9 systems these systems are built to handle advanced analytics and cloud environment. That's 10.$3000000000 over the last 12 months.\n"
     ]
    }
   ],
   "source": [
    "bert_model = Summarizer()\n",
    "BERT_summary = ''.join(bert_model(body, num_sentences=16))\n",
    "print(BERT_summary)"
   ]
  },
  {
   "cell_type": "code",
   "execution_count": 9,
   "metadata": {},
   "outputs": [
    {
     "name": "stdout",
     "output_type": "stream",
     "text": [
      "Welcome and thank you for standing by at this time all participants are in a listen only mode. With R. As a service offerings up 15 percent with this. And so we have been reshaping our business to address this opportunity investing heavily to build capabilities across our business like IBM cloud. Global business services and global technology service. But with the stronger dollar revenue was down 4.7 percent at constant margin revenue was ahead when the profit and earnings per share growth last year we took pretax charges associated with the actions to realign our skills. This was driven by strong performance in both services businesses. And so now before getting into the segment performance. They need tighter integration between hybrid cloud and their date in a I. Platforms to unlock value and so we recently made changes to our management system to more effectively address our clients involving needs and in preparation for the acquisition of red hat. The business changes resulted in 3 adjustments to our segment structure for 2019. Our systems and global financing segments are also one change now let me get into the segment results starting with our cloud and cognitive software segment we're revenue grew to percent our clients journey to cloud and A. I.. It's now turning to more mission critical workloads. Well transaction processing platforms was flat. N. A. I. Are also driving traction for IBM cloud private for data offering as well as Watson assistant and what's an open scale that run on IBM cloud private for data. The digital business automation platform and Watson anywhere to further accelerate hybrid cloud adoption. We continue to have solid growth in cloud revenue which was up 13 percent. I'll remind you we are wrapping on strong performance from last year. We returned 2.$3000000000 to shareholders in the quarter including 1.$4000000000 in dividends and over $900000000 of gross share repurchases. Both of these are up from December as we prepare for the acquisition of red hat. Well our overall revenue reflects the IBM Z. Product cycle dynamics and a focus on de emphasizing lower value work in services across IBM. We are comfortable that we can absorb these headwinds in the full your expectation of about $12000000000 and with that let me turn it back to Patricia for the queue in a. Thank you Jim.\n"
     ]
    }
   ],
   "source": [
    "GPT2_model = TransformerSummarizer(transformer_type=\"GPT2\",transformer_model_key=\"gpt2-medium\")\n",
    "GPT2_summary = ''.join(GPT2_model(body, ratio=0.1))\n",
    "print(GPT2_summary)"
   ]
  },
  {
   "cell_type": "code",
   "execution_count": 10,
   "metadata": {},
   "outputs": [
    {
     "name": "stdout",
     "output_type": "stream",
     "text": [
      "Welcome and thank you for standing by at this time all participants are in a listen only mode. Now I'll turn the meeting over to miss Patricia Murphy with IBM. We had significant margin expansion with the operating gross margin up 90 basis points driven by both services segment. And we again expanded our margins in GBS in our software segment growth was driven by our hybrid cloud offerings. We're seeing an increasing bias towards engagements that provide productivity. And so we have been reshaping our business to address this opportunity investing heavily to build capabilities across our business like IBM cloud. Leveraging the integrated value of IBM and so we have a strong foundation for the addition of red hat. $0.832 benefit to last year's earnings per share which of course creates a headwind to this year's growth and so looking at the driver's. They need tighter integration between hybrid cloud and their date in a I. Platforms to unlock value and so we recently made changes to our management system to more effectively address our clients involving needs and in preparation for the acquisition of red hat. The business changes resulted in 3 adjustments to our segment structure for 2019. And cloud platforms excluding security service and then finally. Transaction processing platforms revenue was consistent with last year as clients continue to commit to our platform for the longer term performance reflects the value we provide clients managing these vital workloads and their preference for predictability and I. T. Spent turning a profit for the segment we expanded pre tax margin by 2 points year to year. Both of these are up from December as we prepare for the acquisition of red hat. What I characterize as improving fundamentals. This assumes will close the software divestitures. We are comfortable that we can absorb these headwinds in the full your expectation of about $12000000000 and with that let me turn it back to Patricia for the queue in a. Thank you Jim.\n"
     ]
    }
   ],
   "source": [
    "GPT2_model = TransformerSummarizer(transformer_type=\"GPT2\",transformer_model_key=\"gpt2-medium\")\n",
    "GPT2_summary = ''.join(GPT2_model(body, num_sentences=16))\n",
    "print(GPT2_summary)"
   ]
  },
  {
   "cell_type": "code",
   "execution_count": 11,
   "metadata": {},
   "outputs": [
    {
     "name": "stderr",
     "output_type": "stream",
     "text": [
      "Some weights of the model checkpoint at xlnet-base-cased were not used when initializing XLNetModel: ['lm_loss.weight', 'lm_loss.bias']\n",
      "- This IS expected if you are initializing XLNetModel from the checkpoint of a model trained on another task or with another architecture (e.g. initializing a BertForSequenceClassification model from a BertForPreTraining model).\n",
      "- This IS NOT expected if you are initializing XLNetModel from the checkpoint of a model that you expect to be exactly identical (initializing a BertForSequenceClassification model from a BertForSequenceClassification model).\n"
     ]
    },
    {
     "name": "stdout",
     "output_type": "stream",
     "text": [
      "Welcome and thank you for standing by at this time all participants are in a listen only mode. Has been updated to reflect this business structure we provided to years of historical financial information by quarter. Global business services and global technology service. Leveraging the integrated value of IBM and so we have a strong foundation for the addition of red hat. Well addressing the issues I just mentioned around portability management consistency security remaining open which avoids vendor lock in. We're investing in building capabilities to be ready to drive the synergy. This is right in line with our all in first quarter expectation of 10 to 11 percent. And as I said earlier this was a significant headwind to our net income growth year to year looking at our cast metrics we generated 1.$7000000000 of free cash flow in the quarter which is up about $350000000 over last year. They need tighter integration between hybrid cloud and their date in a I. Platforms to unlock value and so we recently made changes to our management system to more effectively address our clients involving needs and in preparation for the acquisition of red hat. I'll break down some of the drivers behind these areas are cloud and data platforms grew 2 percent we deliver growth this quarter by helping clients build across public and private clouds with IBM cloud private which is you know is built on Lennix containers and Cooper Denny's we help to modernize and integrate applications and environments with our integration and digital business automation platform and then collect and manage data with the hybrid data management platform. This reflects a lower level of workforce rebalancing this year mitigated by headwind and I. P. Income they continued investment in key strategic areas as we look forward essentially all of our software portfolio now runs on Lennix containers orchestrated by Cooper nineties we've introduced new offerings like IBM cloud integration platform. They are turning to G. B. S.. To help them with their strategy and implementation leveraging our deep industry expertise and innovative technology portfolio. Our next generation enterprise application offerings assist clients as they build and implement cloud native applications in areas such as workday sales force and S. For Hana. That's 10.$3000000000 over the last 12 months. And at the end of the quarter we had 2.$4000000000 remaining in our buy back authorization I'll remind you we plan to suspend sherry purchase in 2020 and 2021. Later in the year about 60 percent of our total debt is in support of our financing business. And the credit quality over financing receivables remain strong at 55 percent investment grade. As a reminder our financing that will decrease throughout the year as a result of the winding down of our commercial we M. Content. So to summarize free cash flow was on track and our balance sheet reflects the strange required to support our continuing investments and returned to shareholders.\n"
     ]
    }
   ],
   "source": [
    "model = TransformerSummarizer(transformer_type=\"XLNet\",transformer_model_key=\"xlnet-base-cased\")\n",
    "XLNET_summary = ''.join(model(body, ratio=0.1))\n",
    "print(XLNET_summary)"
   ]
  },
  {
   "cell_type": "code",
   "execution_count": 12,
   "metadata": {},
   "outputs": [
    {
     "name": "stderr",
     "output_type": "stream",
     "text": [
      "Some weights of the model checkpoint at xlnet-base-cased were not used when initializing XLNetModel: ['lm_loss.weight', 'lm_loss.bias']\n",
      "- This IS expected if you are initializing XLNetModel from the checkpoint of a model trained on another task or with another architecture (e.g. initializing a BertForSequenceClassification model from a BertForPreTraining model).\n",
      "- This IS NOT expected if you are initializing XLNetModel from the checkpoint of a model that you expect to be exactly identical (initializing a BertForSequenceClassification model from a BertForSequenceClassification model).\n"
     ]
    },
    {
     "name": "stdout",
     "output_type": "stream",
     "text": [
      "Welcome and thank you for standing by at this time all participants are in a listen only mode. Today's conference is being recorded if you have any objections you may disconnect at this time. Well investing to lead in the emerging high value areas of the I. T. Industry. Global business services and global technology service. Leveraging the integrated value of IBM and so we have a strong foundation for the addition of red hat. As I said our revenue was down less than one percent at constant currency. 11 percent which resulted in a 2.Benefit in our expense to revenue ratio overall. Our operating tax rate was 10 percent including discrete. They need tighter integration between hybrid cloud and their date in a I. Platforms to unlock value and so we recently made changes to our management system to more effectively address our clients involving needs and in preparation for the acquisition of red hat. Transaction processing platforms revenue was consistent with last year as clients continue to commit to our platform for the longer term performance reflects the value we provide clients managing these vital workloads and their preference for predictability and I. T. Spent turning a profit for the segment we expanded pre tax margin by 2 points year to year. This reflects a lower level of workforce rebalancing this year mitigated by headwind and I. P. Income they continued investment in key strategic areas as we look forward essentially all of our software portfolio now runs on Lennix containers orchestrated by Cooper nineties we've introduced new offerings like IBM cloud integration platform. The digital business automation platform and Watson anywhere to further accelerate hybrid cloud adoption. Our next generation enterprise application offerings assist clients as they build and implement cloud native applications in areas such as workday sales force and S. For Hana. The yield on our productivity and utilization initiatives and a continuing help from currency given our global delivery mix. And at the end of the quarter we had 2.$4000000000 remaining in our buy back authorization I'll remind you we plan to suspend sherry purchase in 2020 and 2021. Of operating earnings per share at about $12000000000 of free cash flow.\n"
     ]
    }
   ],
   "source": [
    "model = TransformerSummarizer(transformer_type=\"XLNet\",transformer_model_key=\"xlnet-base-cased\")\n",
    "XLNET_summary = ''.join(model(body, num_sentences=16))\n",
    "print(XLNET_summary)"
   ]
  },
  {
   "cell_type": "markdown",
   "metadata": {},
   "source": [
    "## The above approaches are Transformer based to generate the summary. "
   ]
  },
  {
   "cell_type": "markdown",
   "metadata": {},
   "source": [
    "### Machine Learning Model for Summarization"
   ]
  },
  {
   "cell_type": "code",
   "execution_count": 13,
   "metadata": {},
   "outputs": [],
   "source": [
    "from gensim.summarization.summarizer import summarize\n",
    "from gensim.summarization import keywords"
   ]
  },
  {
   "cell_type": "code",
   "execution_count": 14,
   "metadata": {},
   "outputs": [],
   "source": [
    "'''Get the summary of the text'''\n",
    "\n",
    "def get_summary(text, pct):\n",
    "    summary = summarize(text,ratio=pct,split=True)\n",
    "    return summary\n",
    "\n",
    "'''Get the keywords of the text'''\n",
    "\n",
    "def get_keywords(text):\n",
    "    res = keywords(text, ratio=0.1, words=None, split=False, scores=False, pos_filter=None, lemmatize=False, deacc=False)\n",
    "    res = res.split('\\n')\n",
    "    return res"
   ]
  },
  {
   "cell_type": "code",
   "execution_count": 15,
   "metadata": {},
   "outputs": [
    {
     "name": "stdout",
     "output_type": "stream",
     "text": [
      "Printing Summary\n",
      "--------------------------\n",
      "['Has been updated to reflect this business structure we provided to years of historical financial information by quarter.', \"And thanks to all of you for joining us in the first quarter we delivered 18.$2000000000 of revenue which is significant operating leverage we deliver 2.$2000000000 of operating pre tax income and $2.25 of operating earnings per share and we've now generated over $12000000000 of free cash flow over the last year with realization.\", 'We had significant margin expansion with the operating gross margin up 90 basis points driven by both services segment.', \"And we had solid free cash flow improving margin has been a focus for us in our performance this quarter is the result of actions we've been taking not only our focus on higher value in portfolio optimization but also driving productivity and operational efficiency especially in our services business with this start to the year we are maintaining our full year expectations for operating earnings per share and free cash flow in the first quarter.\", 'At constant currency slightly better than our fourth quarter performance are reported revenue as expected.', 'Are your 2 year revenue growth in the developed markets improved a couple points sequentially consistent with the expectations we discussed last quarter.', 'Looking at our results by segment we had continued revenue growth in global business services and in our cloud and cognitive software in GBS.', 'And we again expanded our margins in GBS in our software segment growth was driven by our hybrid cloud offerings.', \"Security and solution areas like supply chain and want some help in global technology services we're continuing to help our clients implement and manage hybrid multi cloud environment.\", 'Product cycle dynamics and weaker performance and storage across our segments clients continue to be focused on solutions that deliver innovation and growth.', 'And predictability of spend and so our results this quarter reflect our ability to deliver both innovation and productivity helping our clients transition their business models the hybrid cloud.', 'Our cloud revenue growth in the first quarter xcelerated to 12 percent.', \"The core banking systems to address this opportunity enterprises need to be able to move and manage data services and work flows across multiple clouds and I'm prime and they need to be able to address security concerns.\", 'R. 19.$5000000000 of cloud revenue in the first quarter we introduce additional capabilities that will accelerate hybrid cloud adoption including Watson anywhere which makes IBM Watson available on premises as well as on any private or public cloud.', 'End. IBM cloud integration platform which provides a standard way to integrate services and applications across multiple cloud environment more broadly we have built a framework of offerings to facilitate our clients journey to the clout.', 'It is designed to help our clients across the 4 key stages of their clout transformation journey advise move build and manage these offering spring in our cloud and cognitive software.', \"I want to lay out the contributors to our year to year operating earnings per share performance especially because there are a couple of larger items in last year's results that impact the dynamics.\", 'But with the stronger dollar revenue was down 4.7 percent at constant margin revenue was ahead when the profit and earnings per share growth last year we took pretax charges associated with the actions to realign our skills.', 'The key opportunities in better position our systems cost structure these together with the benefit of the actions end our ongoing operating efficiencies resulted in strong pre tax income growth and pre tax margin expansion last year we also had a large discrete tax benefits associated with an honest settlement with a much smaller discrete benefit this year tax was a significant headwind to our net income.', 'This drives operating leverage and provide flexibility to increased investment in areas like hybrid cloud III in blockchain.', 'And as I said earlier this was a significant headwind to our net income growth year to year looking at our cast metrics we generated 1.$7000000000 of free cash flow in the quarter which is up about $350000000 over last year.', 'Platforms to unlock value and so we recently made changes to our management system to more effectively address our clients involving needs and in preparation for the acquisition of red hat.', 'The center bridge and the just completed sale of arts a terrorist mortgage servicing business and so looking at our new segments we created the cloud and cognitive software segment bringing software platforms and solutions into one segment within this segment.', \"Platforms cognitive applications includes vertical and domain specific solutions that are built on cloud and data platforms these offerings are increasingly being infused with they all right and then transaction processing platforms includes the middleware and database software that supports our client's mission critical workloads running on Z.\", \"Our systems and global financing segments are also one change now let me get into the segment results starting with our cloud and cognitive software segment we're revenue grew to percent our clients journey to cloud and A.\", \"It's critical for any successful digital reinvention we are uniquely positioned to do this with our comprehensive cloud and data offerings coupled with a deep understanding of our client's work flows and security needs with fitness segment.\", \"I'll break down some of the drivers behind these areas are cloud and data platforms grew 2 percent we deliver growth this quarter by helping clients build across public and private clouds with IBM cloud private which is you know is built on Lennix containers and Cooper Denny's we help to modernize and integrate applications and environments with our integration and digital business automation platform and then collect and manage data with the hybrid data management platform.\", \"We see the value of bringing together the hybrid cloud and data value propositions at a European tax authority which is using our digital business automation platform to redesign their tax process sees around their data lake and approved the taxpayer experience in cognitive applications revenue was up 4 percent growth was led by security as well as solution areas like health supply chain and whether it's security we delivered strong double digit growth with our integrated software and services value proposition.\", 'In particular we continue to see good traction with our threat management software and services offerings including Q.', 'We had broad based growth across areas including pair provider in government as clients look the harness data to create actionable insight we also had good results from our rather offerings which grew double digits this quarter and reached a new all time high in the number of active users.', 'Transaction processing platforms revenue was consistent with last year as clients continue to commit to our platform for the longer term performance reflects the value we provide clients managing these vital workloads and their preference for predictability and I.', \"P. Income they continued investment in key strategic areas as we look forward essentially all of our software portfolio now runs on Lennix containers orchestrated by Cooper nineties we've introduced new offerings like IBM cloud integration platform.\", 'All of this better prepares us for the red hat acquisition moving to global business services.', 'We continue the momentum from last year and delivered another solid quarter revenue grew 4 percent gross margin expanded 280 basis points we again had strong growth in consulting which was up 90 percent its clients embark on their digital journey to a cognitive enterprise.', 'We are shifting our business the Cloudbase offerings and continue to have good momentum in our cloud migration factory and cloud application development overall application management revenue was flat.', \"Dude I'm going to clients in the traditional application management engagement and then global process services had solid performance in first quarter revenue was up 5 percent with strong performance and risk and compliance along with financial process services.\", 'Profit are gross margin was 26 percent which is up to 180 basis points driven by our mix the higher value offerings.', \"This enables us to make investments as we prepare for the red hat acquisition such as scaling our existing red hat practice to enhance our journey to cloud offerings for clients leveraging red hat capabilities we're also creating new offerings around advise build move and manage services through industry points of view and platform place in global technology services.\", 'As I mentioned last quarter we are taking actions to optimize our portfolio by exiting low value services content to increase margin profit in cash contribution and better position the business for the longer term.', 'We improve GTS profit and margin creating operating leverage this gives us a solid base from which we can deemphasized lower value contract and third party content enabling continued investment for chapter 2 of the clout and delivering sustained margin improvement.', 'We continue to have solid growth in cloud revenue which was up 13 percent.', 'To be a leader in hybrid multi cloud service in systems revenue was down 9 percent this quarter with the clients in IBM Z.', 'Our revenue grew for the sixth consecutive quarter up 9 percent driven by Lennix and the full roll out of our power 9 based architecture as clients look to handle more data intensive workloads in A.', \"Both the high end and entry level offerings posted strong growth this quarter its clients continue to adopt this new technology storage hardware was down 11 percent with the clients in both the high end and midrange offset by continued growth in all flash arrays performance reflects the clients in our high end which is tied to our mainframe cycle and the I'm going competitive dynamics and pricing pressure we are continuing to introduce new innovations and functionality to differentiate in this environment as we look to manage the portfolio for the market shift the flash looking at systems profit pre tax margin was down a point driven by a mix said when due to where we are in the C.\", '14 cycle so not turning the cash flow we generated 2.$3000000000 in cash from operations in the quarter excluding our financing receivables are free cash flow a 1.$7000000000 is up about $350000000 a year to year this performance results in free cash flow of 12.$2000000000 over the last 12 months and continued strength in our normalized free cash flow realization rate which is 114 percent.', 'High value segments led by global business services and cloud and cognitive software.', 'Product cycle dynamics and a focus on de emphasizing lower value work in services across IBM.', 'Our cloud growth xcelerated as we help our clients transition their business models the hybrid environment we had significant margin expansion with gross margin up over 90 basis points this reflects our shift a higher value and our focus on productivity and operational efficiencies.', \"We're continuing to prioritize our investments and announce additional actions to divest some businesses that are contributing to the integrated value proposition for our clients.\", 'And this is consistent with what we discussed last quarter we continue to expect red hat to close in the second half.', 'Looking at free cash flow we do expect an impact from the divestitures as well as some pre closing financing costs for the red hat acquisition.']\n",
      "-------------------------\n",
      "Printing Keywords\n",
      "--------------------------\n"
     ]
    },
    {
     "name": "stdout",
     "output_type": "stream",
     "text": [
      "['clouds', 'cloud growth', 'services', 'service', 'servicing', 'client', 'revenue', 'management', 'manage', 'manager', 'managed', 'managing', 'value', 'software', 'offerings', 'offering', 'included', 'includes', 'including', 'include', 'business', 'businesses', 'securities', 'security', 'secure', 'quarter', 'quarters', 'segment', 'segments', 'operational', 'operations', 'applications', 'application', 'data', 'help clients', 'margin', 'margins', 'strong performance', 'platform', 'platforms', 'ibm', 'years', 'year', 'operating leverage', 'tax', 'digital', 'digit', 'digits', 'new', 'better', 'results', 'result', 'resulted', 'resulting', 'continue', 'continued', 'continuing', 'continues', 'sale', 'sales', 'provide', 'provided', 'provides', 'provider', 'providers', 'like', 'enterprises', 'enterprise', 'currency', 'lower', 'financial', 'process', 'processing', 'looking', 'look', 'points', 'point', 'benefit', 'benefits', 'hat', 'hats', 'additional', 'addition', 'leveraging', 'workloads', 'workload', 'percent', 'helping', 'helps', 'helped', 'increasing', 'increased', 'increase', 'hybrid']\n"
     ]
    }
   ],
   "source": [
    "print('Printing Summary')\n",
    "print('--------------------------')\n",
    "print(get_summary(body, 0.2))\n",
    "print ('-------------------------')\n",
    "print('Printing Keywords')\n",
    "print('--------------------------')\n",
    "print(get_keywords(body))"
   ]
  },
  {
   "cell_type": "markdown",
   "metadata": {},
   "source": [
    "### Generate Keywords & Insights "
   ]
  },
  {
   "cell_type": "code",
   "execution_count": 16,
   "metadata": {},
   "outputs": [],
   "source": [
    "from keybert import KeyBERT\n",
    "\n",
    "kw_model = KeyBERT()\n",
    "keywords = kw_model.extract_keywords(body)"
   ]
  },
  {
   "cell_type": "code",
   "execution_count": 17,
   "metadata": {},
   "outputs": [
    {
     "data": {
      "text/plain": [
       "[('earnings', 0.3934),\n",
       " ('ibm', 0.3764),\n",
       " ('securities', 0.3513),\n",
       " ('sec', 0.3432),\n",
       " ('shareholders', 0.2969)]"
      ]
     },
     "execution_count": 17,
     "metadata": {},
     "output_type": "execute_result"
    }
   ],
   "source": [
    "kw_model.extract_keywords(body, keyphrase_ngram_range=(1, 1), stop_words=None)"
   ]
  },
  {
   "cell_type": "code",
   "execution_count": 18,
   "metadata": {},
   "outputs": [
    {
     "data": {
      "text/plain": [
       "[('earnings presentation', 0.4919),\n",
       " ('2019 earnings', 0.4866),\n",
       " ('sec filings', 0.4683),\n",
       " ('ibm investor', 0.4623),\n",
       " ('operating earnings', 0.4476)]"
      ]
     },
     "execution_count": 18,
     "metadata": {},
     "output_type": "execute_result"
    }
   ],
   "source": [
    "kw_model.extract_keywords(body, keyphrase_ngram_range=(1, 2), stop_words=None)"
   ]
  },
  {
   "cell_type": "code",
   "execution_count": 19,
   "metadata": {},
   "outputs": [
    {
     "data": {
      "text/plain": [
       "[('2019 earnings presentation', 0.5533),\n",
       " ('murphy with ibm', 0.4967),\n",
       " ('the ibm investor', 0.4943),\n",
       " ('earnings presentation here', 0.4925),\n",
       " ('earnings presentation', 0.4919)]"
      ]
     },
     "execution_count": 19,
     "metadata": {},
     "output_type": "execute_result"
    }
   ],
   "source": [
    "kw_model.extract_keywords(body, keyphrase_ngram_range=(1, 3), stop_words=None)"
   ]
  },
  {
   "cell_type": "code",
   "execution_count": 20,
   "metadata": {},
   "outputs": [
    {
     "data": {
      "text/html": [
       "<pre style=\"white-space:pre;overflow-x:auto;line-height:normal;font-family:Menlo,'DejaVu Sans Mono',consolas,'Courier New',monospace\">Welcome and thank you for standing by at this time all participants are in a listen only \n",
       "mode. Today's conference is being recorded if you have any objections you may disconnect at \n",
       "this time. Now I'll turn the meeting over to miss Patricia Murphy with IBM. Ma'am you may \n",
       "begin. Thank you. This is Patricia Murphy vice president of investor relations for IBM. I \n",
       "want to welcome you to our first quarter 2019 <span style=\"color: #000000; text-decoration-color: #000000; background-color: #ffff00\">earnings</span> presentation. I'm here with Jim \n",
       "Cavanaugh. <span style=\"color: #000000; text-decoration-color: #000000; background-color: #ffff00\">IBM</span> senior vice president and chief financial officer will post today's prepared \n",
       "remarks on the <span style=\"color: #000000; text-decoration-color: #000000; background-color: #ffff00\">IBM</span> investor website within a couple of hours and a replay will be available. \n",
       "By this time tomorrow. Some comments made his presentation may be considered forward looking \n",
       "under the private <span style=\"color: #000000; text-decoration-color: #000000; background-color: #ffff00\">securities</span> litigation Reform Act of 1995 those statements involve factors \n",
       "that could cause our actual results to differ materially. Additional information about these \n",
       "factors is included in the company's <span style=\"color: #000000; text-decoration-color: #000000; background-color: #ffff00\">SEC</span> filings. Our presentation also includes non gap \n",
       "measures to provide additional information to investors we've provided reconciliation charts.\n",
       "At the end of the presentation and then the 8 K.. Submitted to the FCC before turning the \n",
       "call over to Jim. I want to remind you we recently made changes to our management system and \n",
       "organizational structure or segment reporting for 2019. Has been updated to reflect this \n",
       "business structure we provided to years of historical financial information by quarter. On \n",
       "the same it's a couple of weeks ago and this can be found on our investor website and today \n",
       "we'll be discussing our first quarter results in this new segment structure. So with that \n",
       "I'll turn the call over to Jim. Thanks Patricia. And thanks to all of you for joining us in \n",
       "the first quarter we delivered 18.$2000000000 of revenue which is significant operating \n",
       "leverage we deliver 2.$2000000000 of operating pre tax income and $2.25 of operating <span style=\"color: #000000; text-decoration-color: #000000; background-color: #ffff00\">earnings</span>\n",
       "per share and we've now generated over $12000000000 of free cash flow over the last year with\n",
       "realization. Well over 100 percent. We had strong performance in offerings that help clients \n",
       "with their digital transformations and journeys to clout. At the same time we continue to \n",
       "take actions to optimize our portfolio. Well investing to lead in the emerging high value \n",
       "areas of the I. T. Industry. You saw this play out in our results are cloud growth \n",
       "accelerated to 12 percent at constant currency our cloud and cognitive software was up 2 \n",
       "percent and our consulting revenue was up 9 percent also both at constant currency. We had \n",
       "significant margin expansion with the operating gross margin up 90 basis points driven by \n",
       "both services segment. And we had solid free cash flow improving margin has been a focus for \n",
       "us in our performance this quarter is the result of actions we've been taking not only our \n",
       "focus on higher value in portfolio optimization but also driving productivity and operational\n",
       "efficiency especially in our services business with this start to the year we are maintaining\n",
       "our full year expectations for operating <span style=\"color: #000000; text-decoration-color: #000000; background-color: #ffff00\">earnings</span> per share and free cash flow in the first \n",
       "quarter. Our revenue was down less than a point year to year. At constant currency slightly \n",
       "better than our fourth quarter performance are reported revenue as expected. Includes a \n",
       "significant currency had one. As always I'll focus on constant currency performance from a \n",
       "geographic perspective. Are your 2 year revenue growth in the developed markets improved a \n",
       "couple points sequentially consistent with the expectations we discussed last quarter. That \n",
       "said we had weaker performance in the emerging markets in Asia Pacific which impacted our \n",
       "overall revenue performance. Looking at our results by segment we had continued revenue \n",
       "growth in global business services and in our cloud and cognitive software in GBS. As I said \n",
       "we had another quarter of strong growth in consulting as we help clients with their digital \n",
       "reinvention. And we again expanded our margins in GBS in our software segment growth was \n",
       "driven by our hybrid cloud offerings. Security and solution areas like supply chain and want \n",
       "some help in global technology services we're continuing to help our clients implement and \n",
       "manage hybrid multi cloud environment. This is evidenced in the increasing share of our \n",
       "backlog which is now cloud. At the same time consistent with our high value focus we're \n",
       "continuing to take actions to optimize our GPS performance by exiting lower value content. \n",
       "Well this contributes to lower G. P. S. Revenue. We had a higher profit margin and cash \n",
       "contribution. Our systems revenue decline reflecting the <span style=\"color: #000000; text-decoration-color: #000000; background-color: #ffff00\">IBM</span> Z. Product cycle dynamics and \n",
       "weaker performance and storage across our segments clients continue to be focused on \n",
       "solutions that deliver innovation and growth. So. As we mentioned last quarter. We're seeing \n",
       "an increasing bias towards engagements that provide productivity. And predictability of spend\n",
       "and so our results this quarter reflect our ability to deliver both innovation and \n",
       "productivity helping our clients transition their business models the hybrid cloud. Our cloud\n",
       "revenue growth in the first quarter xcelerated to 12 percent. With R. As a service offerings \n",
       "up 15 percent with this. Our cloud revenue has grown in 19.$5000000000 over the last year \n",
       "over the last several months we've talked about the next chapter of cloud which focuses on \n",
       "shifting mission critical work to the cloud and optimizing everything from supply chains. The\n",
       "core banking systems to address this opportunity enterprises need to be able to move and \n",
       "manage data services and work flows across multiple clouds and I'm prime and they need to be \n",
       "able to address security concerns. Data protection and protocols. Availability and cloud \n",
       "management. This requires a hybrid multi cloud open approach. And so we have been reshaping \n",
       "our business to address this opportunity investing heavily to build capabilities across our \n",
       "business like <span style=\"color: #000000; text-decoration-color: #000000; background-color: #ffff00\">IBM</span> cloud. <span style=\"color: #000000; text-decoration-color: #000000; background-color: #ffff00\">IBM</span> cloud private and <span style=\"color: #000000; text-decoration-color: #000000; background-color: #ffff00\">IBM</span> cloud private for data. The <span style=\"color: #000000; text-decoration-color: #000000; background-color: #ffff00\">IBM</span> multi club\n",
       "manager cloud garages cloud migration services and cloud optimized system. These are the \n",
       "innovations that are driving. R. 19.$5000000000 of cloud revenue in the first quarter we \n",
       "introduce additional capabilities that will accelerate hybrid cloud adoption including Watson\n",
       "anywhere which makes <span style=\"color: #000000; text-decoration-color: #000000; background-color: #ffff00\">IBM</span> Watson available on premises as well as on any private or public \n",
       "cloud. End. <span style=\"color: #000000; text-decoration-color: #000000; background-color: #ffff00\">IBM</span> cloud integration platform which provides a standard way to integrate \n",
       "services and applications across multiple cloud environment more broadly we have built a \n",
       "framework of offerings to facilitate our clients journey to the clout. It is designed to help\n",
       "our clients across the 4 key stages of their clout transformation journey advise move build \n",
       "and manage these offering spring in our cloud and cognitive software. Global business \n",
       "services and global technology service. Leveraging the integrated value of <span style=\"color: #000000; text-decoration-color: #000000; background-color: #ffff00\">IBM</span> and so we have\n",
       "a strong foundation for the addition of red hat. Together we will be ideally positioned to \n",
       "help our clients shift their business applications to hybrid clout. Well addressing the \n",
       "issues I just mentioned around portability management consistency security remaining open \n",
       "which avoids vendor lock in. This will not only enhance the growth of red hats business after\n",
       "closing. But with all of <span style=\"color: #000000; text-decoration-color: #000000; background-color: #ffff00\">IBM</span> as we saw more of our data in A. I. Software aren't containers \n",
       "across multiple platforms and more of our services from app modernization. The multi cloud \n",
       "managed services AT IBM. We're investing in building capabilities to be ready to drive the \n",
       "synergy. We're moving through the regulatory process and continue to expect to close in the \n",
       "second half of 2019. Before getting into the financial metrics. I want to lay out the \n",
       "contributors to our year to year operating <span style=\"color: #000000; text-decoration-color: #000000; background-color: #ffff00\">earnings</span> per share performance especially because \n",
       "there are a couple of larger items in last year's results that impact the dynamics. In fact \n",
       "these larger items contributed. $0.832 benefit to last year's <span style=\"color: #000000; text-decoration-color: #000000; background-color: #ffff00\">earnings</span> per share which of \n",
       "course creates a headwind to this year's growth and so looking at the driver's. As I said our\n",
       "revenue was down less than one percent at constant currency. But with the stronger dollar \n",
       "revenue was down 4.7 percent at constant margin revenue was ahead when the profit and \n",
       "<span style=\"color: #000000; text-decoration-color: #000000; background-color: #ffff00\">earnings</span> per share growth last year we took pretax charges associated with the actions to \n",
       "realign our skills. The key opportunities in better position our systems cost structure these\n",
       "together with the benefit of the actions end our ongoing operating efficiencies resulted in \n",
       "strong pre tax income growth and pre tax margin expansion last year we also had a large \n",
       "discrete tax benefits associated with an honest settlement with a much smaller discrete \n",
       "benefit this year tax was a significant headwind to our net income. And finally it lower Cher\n",
       "account contributed to growth putting this all together. We had solid operating leverage and \n",
       "margin expansion offset by a $0.32 impact of last year's significant items resulting in an \n",
       "operating E. PS of $2.25. So now we're getting into profit margin metrics. We continue to \n",
       "drive operating leverage expanding both rose and pre tax margin. Our operating gross margin \n",
       "was up 90 basis points. This was driven by strong performance in both services businesses. To\n",
       "gather up 160 basis points. We also had a year to year benefit from the charge we took last \n",
       "year in systems which was offset by the impact of the <span style=\"color: #000000; text-decoration-color: #000000; background-color: #ffff00\">IBM</span> Z. Product cycle. Our operating \n",
       "expense was better. 11 percent which resulted in a 2.Benefit in our expense to revenue ratio \n",
       "overall. We've been driving productivity in our business including implementing new ways of \n",
       "working and leveraging automation and if using a I. Into our privacy. This drives operating \n",
       "leverage and provide flexibility to increased investment in areas like hybrid cloud III in \n",
       "blockchain. But we have a few other drivers of our expense performance this quarter including\n",
       "currency and lower workforce rebalancing charges mitigated by our lower level of I. P. Income\n",
       "regarding currency. Well the stronger dollar hurts the top line. It generally helps expense \n",
       "due both to translation. And the benefit of hedging contracts in the first quarter currency \n",
       "helped our your your expense by nearly 6 points. Much of this was reflected in other income \n",
       "and expense. In fact the $200000000 your your change and other income and expense was \n",
       "entirely due to hedging benefits. Remember these hedging gains mitigate the currency impact \n",
       "throughout the piano expense also include the your your reduction of over $500000000 for \n",
       "workforce rebalancing driven by last year's charge. And finally with an expense we absorb the\n",
       "lower level of I. P. Income as it hurts our P. T. I grow by over $200000000 putting this \n",
       "expense performance together with our gross margin expansion pre tax margin was up over 300 \n",
       "basis points. Our operating tax rate was 10 percent including discrete. This is right in line\n",
       "with our all in first quarter expectation of 10 to 11 percent. We provided in January. And as\n",
       "I said earlier this was a significant headwind to our net income growth year to year looking \n",
       "at our cast metrics we generated 1.$7000000000 of free cash flow in the quarter which is up \n",
       "about $350000000 over last year. There's a lot of seasonality in our cash generation and so \n",
       "looking over the last 12 months we generated over $12000000000 of free cash flow. That's 114 \n",
       "percent of our gap net income normalize I'll touch on the cast drivers and uses of cash. A \n",
       "little later. And so now before getting into the segment performance. I want to spend a \n",
       "minute on an overview of our 2019 segment structure as Patricia mention we shared historical \n",
       "information on this new structure a couple weeks ago. As our clients become digital \n",
       "enterprises. They need tighter integration between hybrid cloud and their date in a I. \n",
       "Platforms to unlock value and so we recently made changes to our management system to more \n",
       "effectively address our clients involving needs and in preparation for the acquisition of red\n",
       "hat. The changes also better align our portfolio to the market and the underlying business \n",
       "models. The business changes resulted in 3 adjustments to our segment structure for 2019. \n",
       "First we brought our cloud and cognitive software together in one segment. Second we combined\n",
       "our security services with security software. Consistent with the way we are running that \n",
       "integrated business and then finally we moved the results for the businesses were divested \n",
       "and to the other category. To provide better transparency to the ongoing operational \n",
       "performance of our software and G. B. S. Segment. This includes the pending sale of our \n",
       "collaboration. And I'm print marketing and commerce software date C. L.. The pending sale of \n",
       "the balance of our marketing and commerce software. The center bridge and the just completed \n",
       "sale of arts a terrorist mortgage servicing business and so looking at our new segments we \n",
       "created the cloud and cognitive software segment bringing software platforms and solutions \n",
       "into one segment within this segment. Well report cloud and data platforms which brings \n",
       "together software for hybrid cloud management with data in a I. Platforms cognitive \n",
       "applications includes vertical and domain specific solutions that are built on cloud and data\n",
       "platforms these offerings are increasingly being infused with they all right and then \n",
       "transaction processing platforms includes the middleware and database software that supports \n",
       "our client's mission critical workloads running on Z. O. S. As well as storage software \n",
       "looking at our services segments the scope of global business services segment overall was on\n",
       "change other than moving the device that mortgage servicing business. The other global \n",
       "technology services. It's consistent with the services component of technology services. And \n",
       "cloud platforms excluding security service and then finally. Our systems and global financing\n",
       "segments are also one change now let me get into the segment results starting with our cloud \n",
       "and cognitive software segment we're revenue grew to percent our clients journey to cloud and\n",
       "A. I.. It's now turning to more mission critical workloads. As I just mentioned linking the \n",
       "data. A. I. And applications together with hybrid cloud in a secure way. It's critical for \n",
       "any successful digital reinvention we are uniquely positioned to do this with our \n",
       "comprehensive cloud and data offerings coupled with a deep understanding of our client's work\n",
       "flows and security needs with fitness segment. We had good growth in cloud and data platforms\n",
       "and cognitive application. Well transaction processing platforms was flat. I'll break down \n",
       "some of the drivers behind these areas are cloud and data platforms grew 2 percent we deliver\n",
       "growth this quarter by helping clients build across public and private clouds with <span style=\"color: #000000; text-decoration-color: #000000; background-color: #ffff00\">IBM</span> cloud \n",
       "private which is you know is built on Lennix containers and Cooper Denny's we help to \n",
       "modernize and integrate applications and environments with our integration and digital \n",
       "business automation platform and then collect and manage data with the hybrid data management\n",
       "platform. All of which grew this quarter this need for tighter integration across hybrid \n",
       "cloud data. N. A. I. Are also driving traction for <span style=\"color: #000000; text-decoration-color: #000000; background-color: #ffff00\">IBM</span> cloud private for data offering as \n",
       "well as Watson assistant and what's an open scale that run on <span style=\"color: #000000; text-decoration-color: #000000; background-color: #ffff00\">IBM</span> cloud private for data. We \n",
       "see the value of bringing together the hybrid cloud and data value propositions at a European\n",
       "tax authority which is using our digital business automation platform to redesign their tax \n",
       "process sees around their data lake and approved the taxpayer experience in cognitive \n",
       "applications revenue was up 4 percent growth was led by security as well as solution areas \n",
       "like health supply chain and whether it's security we delivered strong double digit growth \n",
       "with our integrated software and services value proposition. In particular we continue to see\n",
       "good traction with our threat management software and services offerings including Q. Radar \n",
       "and resilient enter security intelligence operations consulting services which detect and \n",
       "respond to security threats for our clients. Panasonic for example is leveraging Q. Radar and\n",
       "related services to strengthen its threat management posture. Panasonic is also piloting. Our\n",
       "next Gen exports threat management offering in Watson health. We had broad based growth \n",
       "across areas including pair provider in government as clients look the harness data to create\n",
       "actionable insight we also had good results from our rather offerings which grew double \n",
       "digits this quarter and reached a new all time high in the number of active users. \n",
       "Transaction processing platforms revenue was consistent with last year as clients continue to\n",
       "commit to our platform for the longer term performance reflects the value we provide clients \n",
       "managing these vital workloads and their preference for predictability and I. T. Spent \n",
       "turning a profit for the segment we expanded pre tax margin by 2 points year to year. This \n",
       "reflects a lower level of workforce rebalancing this year mitigated by headwind and I. P. \n",
       "Income they continued investment in key strategic areas as we look forward essentially all of\n",
       "our software portfolio now runs on Lennix containers orchestrated by Cooper nineties we've \n",
       "introduced new offerings like <span style=\"color: #000000; text-decoration-color: #000000; background-color: #ffff00\">IBM</span> cloud integration platform. The digital business automation\n",
       "platform and Watson anywhere to further accelerate hybrid cloud adoption. And we have ongoing\n",
       "activities to educate all of IBM's employees on the journey to cloud which includes. Red hat \n",
       "skills. All of this better prepares us for the red hat acquisition moving to global business \n",
       "services. We continue the momentum from last year and delivered another solid quarter revenue\n",
       "grew 4 percent gross margin expanded 280 basis points we again had strong growth in \n",
       "consulting which was up 90 percent its clients embark on their digital journey to a cognitive\n",
       "enterprise. They are turning to G. B. S.. To help them with their strategy and implementation\n",
       "leveraging our deep industry expertise and innovative technology portfolio. The growth this \n",
       "quarter was led by digital strategy and I. Acts as well as consulting for cloud application \n",
       "migrations and our next generation enterprise application practice within cloud application \n",
       "migration GBS cloud advisory services works with enterprises to plan and implement a clear \n",
       "strategy and roadmap. For the hybrid cloud journey we're doing that's what Tribune publishing\n",
       "as they transform from a legacy print company to a digital company helping them determine the\n",
       "right environment for each of their applications and optimizing their migration to the cloud.\n",
       "Our next generation enterprise application offerings assist clients as they build and \n",
       "implement cloud native applications in areas such as workday sales force and S. For Hana. <span style=\"color: #000000; text-decoration-color: #000000; background-color: #ffff00\">IBM</span>\n",
       "is now leading the market with over 200 S. For Hana impact assessments over 200 \n",
       "implementations and more than 125 goal lives and application management. We are shifting our \n",
       "business the Cloudbase offerings and continue to have good momentum in our cloud migration \n",
       "factory and cloud application development overall application management revenue was flat. \n",
       "Dude I'm going to clients in the traditional application management engagement and then \n",
       "global process services had solid performance in first quarter revenue was up 5 percent with \n",
       "strong performance and risk and compliance along with financial process services. Turning to \n",
       "G. B. S. Profit are gross margin was 26 percent which is up to 180 basis points driven by our\n",
       "mix the higher value offerings. The yield on our productivity and utilization initiatives and\n",
       "a continuing help from currency given our global delivery mix. This enables us to make \n",
       "investments as we prepare for the red hat acquisition such as scaling our existing red hat \n",
       "practice to enhance our journey to cloud offerings for clients leveraging red hat \n",
       "capabilities we're also creating new offerings around advise build move and manage services \n",
       "through industry points of view and platform place in global technology services. As I \n",
       "mentioned last quarter we are taking actions to optimize our portfolio by exiting low value \n",
       "services content to increase margin profit in cash contribution and better position the \n",
       "business for the longer term. G. T. S. Place an important role in I. B. M.'s integrated value\n",
       "proposition building on its deep client relationships to shift our clients the hybrid cloud \n",
       "as we move through last year. We improve GTS profit and margin creating operating leverage \n",
       "this gives us a solid base from which we can deemphasized lower value contract and third \n",
       "party content enabling continued investment for chapter 2 of the clout and delivering \n",
       "sustained margin improvement. This is what we're focused. We saw this play out in the first \n",
       "quarter results as overall revenue decline. But gross margin expanded 110 basis points driven\n",
       "by the make shift a higher value. A live from cloud scale efficiencies and productivity \n",
       "improvement. So now looking at the GTS revenue by line of business infrastructure and cloud \n",
       "services was down 3 percent and technology support services was down to percent within \n",
       "infrastructure and cloud services. We continue to have solid growth in cloud revenue which \n",
       "was up 13 percent. This is driven by the backlog we're cloud is now over 30 percent of the \n",
       "total services outsourcing back well keep in mind most of the crowd opportunities ahead of \n",
       "us. 80 percent of the enterprise workloads which represent mission critical work. Have yet to\n",
       "move to the cloud as clients my great these workloads to a hybrid multi cloud environment. \n",
       "They faced increased complexity in managing their infrastructure. Because we've been running \n",
       "these workloads. We're better positioned to help our clients to build and manage these new \n",
       "environment during the first quarter we announced that we're moving and managing BMP perra \n",
       "ball and Santander. A couple of the largest banks in Europe the hybrid cloud that's on top of\n",
       "companies like Lloyd's Ali ons. Westpac. American Airlines and anthem insurance. The list \n",
       "goes on. That's all mission critical work starting to move and they're moving it with IBM. \n",
       "The portfolio actions I mentioned earlier create flexibility to invest in additional cloud \n",
       "capabilities to capture this high value growing market for example. All right B. M. Services \n",
       "for multi cloud management offering provides a single system to help enterprise simplify the \n",
       "management of the right T. Resources across multiple cloud providers on Prem and varmints and\n",
       "private clouds and as we prepare for the red hat acquisition we are investing to build on our\n",
       "partnership as a services integrator for red hat. To be a leader in hybrid multi cloud \n",
       "service in systems revenue was down 9 percent this quarter with the clients in <span style=\"color: #000000; text-decoration-color: #000000; background-color: #ffff00\">IBM</span> Z. \n",
       "Reflecting where we are in the product cycle in in storage. Driven by market and competitive \n",
       "dynamics that said we had good performance and power. This quarter <span style=\"color: #000000; text-decoration-color: #000000; background-color: #ffff00\">IBM</span> Z. Revenue decline 38 \n",
       "percent. I'll remind you we are wrapping on strong performance from last year. When we had 54\n",
       "percent growth we are 7 quarters into the Z. 14 cycle and the program continues to track I \n",
       "had of the prior program we had strong growth in volumes or ship MIPS and new workload MIPS \n",
       "continue to outpace our standard maps this growth is led by Lennix again this quarter in our \n",
       "single frame Z. 14 designed specifically for cloud data centers remains a growth driver. Our \n",
       "revenue grew for the sixth consecutive quarter up 9 percent driven by Lennix and the full \n",
       "roll out of our power 9 based architecture as clients look to handle more data intensive \n",
       "workloads in A. I.. Hannah and unix. They are turning to power 9 systems these systems are \n",
       "built to handle advanced analytics and cloud environment. Both the high end and entry level \n",
       "offerings posted strong growth this quarter its clients continue to adopt this new technology\n",
       "storage hardware was down 11 percent with the clients in both the high end and midrange \n",
       "offset by continued growth in all flash arrays performance reflects the clients in our high \n",
       "end which is tied to our mainframe cycle and the I'm going competitive dynamics and pricing \n",
       "pressure we are continuing to introduce new innovations and functionality to differentiate in\n",
       "this environment as we look to manage the portfolio for the market shift the flash looking at\n",
       "systems profit pre tax margin was down a point driven by a mix said when due to where we are \n",
       "in the C. 14 cycle so not turning the cash flow we generated 2.$3000000000 in cash from \n",
       "operations in the quarter excluding our financing receivables are free cash flow a \n",
       "1.$7000000000 is up about $350000000 a year to year this performance results in free cash \n",
       "flow of 12.$2000000000 over the last 12 months and continued strength in our normalized free \n",
       "cash flow realization rate which is 114 percent. Our cap backs decline reflects effective \n",
       "capital management in the strategy I mentioned earlier to de emphasize some lower value \n",
       "content. This reduces our capital requirements and so. Free cash flow came in were we \n",
       "expected. And there is no change in our full year outlook about $12000000000 looking at uses \n",
       "of cash. We returned 2.$3000000000 to <span style=\"color: #000000; text-decoration-color: #000000; background-color: #ffff00\">shareholders</span> in the quarter including 1.$4000000000 in \n",
       "dividends and over $900000000 of gross share repurchases. That's 10.$3000000000 over the last\n",
       "12 months. We bought back nearly 7000000 Cher's. And at the end of the quarter we had \n",
       "2.$4000000000 remaining in our buy back authorization I'll remind you we plan to suspend \n",
       "sherry purchase in 2020 and 2021. As we pay down debt for a red hat acquisition to get back \n",
       "to work targeted leverage ratio. Looking at the balance sheet we closed the quarter with the \n",
       "cash balance of over $18000000000 in total debt of $50000000000. Both of these are up from \n",
       "December as we prepare for the acquisition of red hat. Later in the year about 60 percent of \n",
       "our total debt is in support of our financing business. The leverage in our financing \n",
       "business remains at 9 to one. And the credit quality over financing receivables remain strong\n",
       "at 55 percent investment grade. That's 2 points better than a year ago. As a reminder our \n",
       "financing that will decrease throughout the year as a result of the winding down of our \n",
       "commercial we M. Content. So to summarize free cash flow was on track and our balance sheet \n",
       "reflects the strange required to support our continuing investments and returned to \n",
       "shareholders. So let me make a few summary comments in the quarter and our view of the year \n",
       "before we move on to queue in a in the first quarter we grew 8 T. High value segments led by \n",
       "global business services and cloud and cognitive software. Well our overall revenue reflects \n",
       "the <span style=\"color: #000000; text-decoration-color: #000000; background-color: #ffff00\">IBM</span> Z. Product cycle dynamics and a focus on de emphasizing lower value work in services \n",
       "across IBM. Our cloud growth xcelerated as we help our clients transition their business \n",
       "models the hybrid environment we had significant margin expansion with gross margin up over \n",
       "90 basis points this reflects our shift a higher value and our focus on productivity and \n",
       "operational efficiencies. What I characterize as improving fundamentals. We're continuing to \n",
       "prioritize our investments and announce additional actions to divest some businesses that are\n",
       "contributing to the integrated value proposition for our clients. And we're continuing our \n",
       "planning and preparation for the acquisition of red hat with this performance we continue to \n",
       "expect to deliver at least $13.90. Of operating <span style=\"color: #000000; text-decoration-color: #000000; background-color: #ffff00\">earnings</span> per share at about $12000000000 of \n",
       "free cash flow. I want to remind you what is and is not included in these expectations. And \n",
       "this is consistent with what we discussed last quarter we continue to expect red hat to close\n",
       "in the second half. Because the financial implications to the year are dependent on the \n",
       "timing of the closing. We have not included red hat in the expectations. In contrast the \n",
       "timing of the closing of our 2 remaining announced divestitures does not have a significant \n",
       "impact on the year. That's because we continue to expect the combination of the foregoing \n",
       "profit the gain on sale. The actions to address the structure and stranded costs. Yeah and \n",
       "the resulting benefit from these actions they have minimal impact to our profit and <span style=\"color: #000000; text-decoration-color: #000000; background-color: #ffff00\">earnings</span> \n",
       "per share for the year and so our guidance assumes these divestitures. Looking at the issue \n",
       "of <span style=\"color: #000000; text-decoration-color: #000000; background-color: #ffff00\">earnings</span> per share for the year we assume will deliver about 22 percent in the second \n",
       "quarter in line with the last couple of years and then looking at the second half we would \n",
       "expect the growth in the PS to be skewed to the fourth quarter. This assumes will close the \n",
       "software divestitures. In the second quarter with a gain effectively offset by the foregoing \n",
       "profit and the charges for actions to address the structure and stranded costs. In other \n",
       "words we expect it centrally. No impact to the second quarter. Looking at free cash flow we \n",
       "do expect an impact from the divestitures as well as some pre closing financing costs for the\n",
       "red hat acquisition. But with a solid start to the year free cash flow. We are comfortable \n",
       "that we can absorb these headwinds in the full your expectation of about $12000000000 and \n",
       "with that let me turn it back to Patricia for the queue in a. Thank you Jim.\n",
       "</pre>\n"
      ],
      "text/plain": [
       "Welcome and thank you for standing by at this time all participants are in a listen only \n",
       "mode. Today's conference is being recorded if you have any objections you may disconnect at \n",
       "this time. Now I'll turn the meeting over to miss Patricia Murphy with IBM. Ma'am you may \n",
       "begin. Thank you. This is Patricia Murphy vice president of investor relations for IBM. I \n",
       "want to welcome you to our first quarter 2019 \u001b[30;48;2;255;255;0mearnings\u001b[0m presentation. I'm here with Jim \n",
       "Cavanaugh. \u001b[30;48;2;255;255;0mIBM\u001b[0m senior vice president and chief financial officer will post today's prepared \n",
       "remarks on the \u001b[30;48;2;255;255;0mIBM\u001b[0m investor website within a couple of hours and a replay will be available. \n",
       "By this time tomorrow. Some comments made his presentation may be considered forward looking \n",
       "under the private \u001b[30;48;2;255;255;0msecurities\u001b[0m litigation Reform Act of 1995 those statements involve factors \n",
       "that could cause our actual results to differ materially. Additional information about these \n",
       "factors is included in the company's \u001b[30;48;2;255;255;0mSEC\u001b[0m filings. Our presentation also includes non gap \n",
       "measures to provide additional information to investors we've provided reconciliation charts.\n",
       "At the end of the presentation and then the 8 K.. Submitted to the FCC before turning the \n",
       "call over to Jim. I want to remind you we recently made changes to our management system and \n",
       "organizational structure or segment reporting for 2019. Has been updated to reflect this \n",
       "business structure we provided to years of historical financial information by quarter. On \n",
       "the same it's a couple of weeks ago and this can be found on our investor website and today \n",
       "we'll be discussing our first quarter results in this new segment structure. So with that \n",
       "I'll turn the call over to Jim. Thanks Patricia. And thanks to all of you for joining us in \n",
       "the first quarter we delivered 18.$2000000000 of revenue which is significant operating \n",
       "leverage we deliver 2.$2000000000 of operating pre tax income and $2.25 of operating \u001b[30;48;2;255;255;0mearnings\u001b[0m\n",
       "per share and we've now generated over $12000000000 of free cash flow over the last year with\n",
       "realization. Well over 100 percent. We had strong performance in offerings that help clients \n",
       "with their digital transformations and journeys to clout. At the same time we continue to \n",
       "take actions to optimize our portfolio. Well investing to lead in the emerging high value \n",
       "areas of the I. T. Industry. You saw this play out in our results are cloud growth \n",
       "accelerated to 12 percent at constant currency our cloud and cognitive software was up 2 \n",
       "percent and our consulting revenue was up 9 percent also both at constant currency. We had \n",
       "significant margin expansion with the operating gross margin up 90 basis points driven by \n",
       "both services segment. And we had solid free cash flow improving margin has been a focus for \n",
       "us in our performance this quarter is the result of actions we've been taking not only our \n",
       "focus on higher value in portfolio optimization but also driving productivity and operational\n",
       "efficiency especially in our services business with this start to the year we are maintaining\n",
       "our full year expectations for operating \u001b[30;48;2;255;255;0mearnings\u001b[0m per share and free cash flow in the first \n",
       "quarter. Our revenue was down less than a point year to year. At constant currency slightly \n",
       "better than our fourth quarter performance are reported revenue as expected. Includes a \n",
       "significant currency had one. As always I'll focus on constant currency performance from a \n",
       "geographic perspective. Are your 2 year revenue growth in the developed markets improved a \n",
       "couple points sequentially consistent with the expectations we discussed last quarter. That \n",
       "said we had weaker performance in the emerging markets in Asia Pacific which impacted our \n",
       "overall revenue performance. Looking at our results by segment we had continued revenue \n",
       "growth in global business services and in our cloud and cognitive software in GBS. As I said \n",
       "we had another quarter of strong growth in consulting as we help clients with their digital \n",
       "reinvention. And we again expanded our margins in GBS in our software segment growth was \n",
       "driven by our hybrid cloud offerings. Security and solution areas like supply chain and want \n",
       "some help in global technology services we're continuing to help our clients implement and \n",
       "manage hybrid multi cloud environment. This is evidenced in the increasing share of our \n",
       "backlog which is now cloud. At the same time consistent with our high value focus we're \n",
       "continuing to take actions to optimize our GPS performance by exiting lower value content. \n",
       "Well this contributes to lower G. P. S. Revenue. We had a higher profit margin and cash \n",
       "contribution. Our systems revenue decline reflecting the \u001b[30;48;2;255;255;0mIBM\u001b[0m Z. Product cycle dynamics and \n",
       "weaker performance and storage across our segments clients continue to be focused on \n",
       "solutions that deliver innovation and growth. So. As we mentioned last quarter. We're seeing \n",
       "an increasing bias towards engagements that provide productivity. And predictability of spend\n",
       "and so our results this quarter reflect our ability to deliver both innovation and \n",
       "productivity helping our clients transition their business models the hybrid cloud. Our cloud\n",
       "revenue growth in the first quarter xcelerated to 12 percent. With R. As a service offerings \n",
       "up 15 percent with this. Our cloud revenue has grown in 19.$5000000000 over the last year \n",
       "over the last several months we've talked about the next chapter of cloud which focuses on \n",
       "shifting mission critical work to the cloud and optimizing everything from supply chains. The\n",
       "core banking systems to address this opportunity enterprises need to be able to move and \n",
       "manage data services and work flows across multiple clouds and I'm prime and they need to be \n",
       "able to address security concerns. Data protection and protocols. Availability and cloud \n",
       "management. This requires a hybrid multi cloud open approach. And so we have been reshaping \n",
       "our business to address this opportunity investing heavily to build capabilities across our \n",
       "business like \u001b[30;48;2;255;255;0mIBM\u001b[0m cloud. \u001b[30;48;2;255;255;0mIBM\u001b[0m cloud private and \u001b[30;48;2;255;255;0mIBM\u001b[0m cloud private for data. The \u001b[30;48;2;255;255;0mIBM\u001b[0m multi club\n",
       "manager cloud garages cloud migration services and cloud optimized system. These are the \n",
       "innovations that are driving. R. 19.$5000000000 of cloud revenue in the first quarter we \n",
       "introduce additional capabilities that will accelerate hybrid cloud adoption including Watson\n",
       "anywhere which makes \u001b[30;48;2;255;255;0mIBM\u001b[0m Watson available on premises as well as on any private or public \n",
       "cloud. End. \u001b[30;48;2;255;255;0mIBM\u001b[0m cloud integration platform which provides a standard way to integrate \n",
       "services and applications across multiple cloud environment more broadly we have built a \n",
       "framework of offerings to facilitate our clients journey to the clout. It is designed to help\n",
       "our clients across the 4 key stages of their clout transformation journey advise move build \n",
       "and manage these offering spring in our cloud and cognitive software. Global business \n",
       "services and global technology service. Leveraging the integrated value of \u001b[30;48;2;255;255;0mIBM\u001b[0m and so we have\n",
       "a strong foundation for the addition of red hat. Together we will be ideally positioned to \n",
       "help our clients shift their business applications to hybrid clout. Well addressing the \n",
       "issues I just mentioned around portability management consistency security remaining open \n",
       "which avoids vendor lock in. This will not only enhance the growth of red hats business after\n",
       "closing. But with all of \u001b[30;48;2;255;255;0mIBM\u001b[0m as we saw more of our data in A. I. Software aren't containers \n",
       "across multiple platforms and more of our services from app modernization. The multi cloud \n",
       "managed services AT IBM. We're investing in building capabilities to be ready to drive the \n",
       "synergy. We're moving through the regulatory process and continue to expect to close in the \n",
       "second half of 2019. Before getting into the financial metrics. I want to lay out the \n",
       "contributors to our year to year operating \u001b[30;48;2;255;255;0mearnings\u001b[0m per share performance especially because \n",
       "there are a couple of larger items in last year's results that impact the dynamics. In fact \n",
       "these larger items contributed. $0.832 benefit to last year's \u001b[30;48;2;255;255;0mearnings\u001b[0m per share which of \n",
       "course creates a headwind to this year's growth and so looking at the driver's. As I said our\n",
       "revenue was down less than one percent at constant currency. But with the stronger dollar \n",
       "revenue was down 4.7 percent at constant margin revenue was ahead when the profit and \n",
       "\u001b[30;48;2;255;255;0mearnings\u001b[0m per share growth last year we took pretax charges associated with the actions to \n",
       "realign our skills. The key opportunities in better position our systems cost structure these\n",
       "together with the benefit of the actions end our ongoing operating efficiencies resulted in \n",
       "strong pre tax income growth and pre tax margin expansion last year we also had a large \n",
       "discrete tax benefits associated with an honest settlement with a much smaller discrete \n",
       "benefit this year tax was a significant headwind to our net income. And finally it lower Cher\n",
       "account contributed to growth putting this all together. We had solid operating leverage and \n",
       "margin expansion offset by a $0.32 impact of last year's significant items resulting in an \n",
       "operating E. PS of $2.25. So now we're getting into profit margin metrics. We continue to \n",
       "drive operating leverage expanding both rose and pre tax margin. Our operating gross margin \n",
       "was up 90 basis points. This was driven by strong performance in both services businesses. To\n",
       "gather up 160 basis points. We also had a year to year benefit from the charge we took last \n",
       "year in systems which was offset by the impact of the \u001b[30;48;2;255;255;0mIBM\u001b[0m Z. Product cycle. Our operating \n",
       "expense was better. 11 percent which resulted in a 2.Benefit in our expense to revenue ratio \n",
       "overall. We've been driving productivity in our business including implementing new ways of \n",
       "working and leveraging automation and if using a I. Into our privacy. This drives operating \n",
       "leverage and provide flexibility to increased investment in areas like hybrid cloud III in \n",
       "blockchain. But we have a few other drivers of our expense performance this quarter including\n",
       "currency and lower workforce rebalancing charges mitigated by our lower level of I. P. Income\n",
       "regarding currency. Well the stronger dollar hurts the top line. It generally helps expense \n",
       "due both to translation. And the benefit of hedging contracts in the first quarter currency \n",
       "helped our your your expense by nearly 6 points. Much of this was reflected in other income \n",
       "and expense. In fact the $200000000 your your change and other income and expense was \n",
       "entirely due to hedging benefits. Remember these hedging gains mitigate the currency impact \n",
       "throughout the piano expense also include the your your reduction of over $500000000 for \n",
       "workforce rebalancing driven by last year's charge. And finally with an expense we absorb the\n",
       "lower level of I. P. Income as it hurts our P. T. I grow by over $200000000 putting this \n",
       "expense performance together with our gross margin expansion pre tax margin was up over 300 \n",
       "basis points. Our operating tax rate was 10 percent including discrete. This is right in line\n",
       "with our all in first quarter expectation of 10 to 11 percent. We provided in January. And as\n",
       "I said earlier this was a significant headwind to our net income growth year to year looking \n",
       "at our cast metrics we generated 1.$7000000000 of free cash flow in the quarter which is up \n",
       "about $350000000 over last year. There's a lot of seasonality in our cash generation and so \n",
       "looking over the last 12 months we generated over $12000000000 of free cash flow. That's 114 \n",
       "percent of our gap net income normalize I'll touch on the cast drivers and uses of cash. A \n",
       "little later. And so now before getting into the segment performance. I want to spend a \n",
       "minute on an overview of our 2019 segment structure as Patricia mention we shared historical \n",
       "information on this new structure a couple weeks ago. As our clients become digital \n",
       "enterprises. They need tighter integration between hybrid cloud and their date in a I. \n",
       "Platforms to unlock value and so we recently made changes to our management system to more \n",
       "effectively address our clients involving needs and in preparation for the acquisition of red\n",
       "hat. The changes also better align our portfolio to the market and the underlying business \n",
       "models. The business changes resulted in 3 adjustments to our segment structure for 2019. \n",
       "First we brought our cloud and cognitive software together in one segment. Second we combined\n",
       "our security services with security software. Consistent with the way we are running that \n",
       "integrated business and then finally we moved the results for the businesses were divested \n",
       "and to the other category. To provide better transparency to the ongoing operational \n",
       "performance of our software and G. B. S. Segment. This includes the pending sale of our \n",
       "collaboration. And I'm print marketing and commerce software date C. L.. The pending sale of \n",
       "the balance of our marketing and commerce software. The center bridge and the just completed \n",
       "sale of arts a terrorist mortgage servicing business and so looking at our new segments we \n",
       "created the cloud and cognitive software segment bringing software platforms and solutions \n",
       "into one segment within this segment. Well report cloud and data platforms which brings \n",
       "together software for hybrid cloud management with data in a I. Platforms cognitive \n",
       "applications includes vertical and domain specific solutions that are built on cloud and data\n",
       "platforms these offerings are increasingly being infused with they all right and then \n",
       "transaction processing platforms includes the middleware and database software that supports \n",
       "our client's mission critical workloads running on Z. O. S. As well as storage software \n",
       "looking at our services segments the scope of global business services segment overall was on\n",
       "change other than moving the device that mortgage servicing business. The other global \n",
       "technology services. It's consistent with the services component of technology services. And \n",
       "cloud platforms excluding security service and then finally. Our systems and global financing\n",
       "segments are also one change now let me get into the segment results starting with our cloud \n",
       "and cognitive software segment we're revenue grew to percent our clients journey to cloud and\n",
       "A. I.. It's now turning to more mission critical workloads. As I just mentioned linking the \n",
       "data. A. I. And applications together with hybrid cloud in a secure way. It's critical for \n",
       "any successful digital reinvention we are uniquely positioned to do this with our \n",
       "comprehensive cloud and data offerings coupled with a deep understanding of our client's work\n",
       "flows and security needs with fitness segment. We had good growth in cloud and data platforms\n",
       "and cognitive application. Well transaction processing platforms was flat. I'll break down \n",
       "some of the drivers behind these areas are cloud and data platforms grew 2 percent we deliver\n",
       "growth this quarter by helping clients build across public and private clouds with \u001b[30;48;2;255;255;0mIBM\u001b[0m cloud \n",
       "private which is you know is built on Lennix containers and Cooper Denny's we help to \n",
       "modernize and integrate applications and environments with our integration and digital \n",
       "business automation platform and then collect and manage data with the hybrid data management\n",
       "platform. All of which grew this quarter this need for tighter integration across hybrid \n",
       "cloud data. N. A. I. Are also driving traction for \u001b[30;48;2;255;255;0mIBM\u001b[0m cloud private for data offering as \n",
       "well as Watson assistant and what's an open scale that run on \u001b[30;48;2;255;255;0mIBM\u001b[0m cloud private for data. We \n",
       "see the value of bringing together the hybrid cloud and data value propositions at a European\n",
       "tax authority which is using our digital business automation platform to redesign their tax \n",
       "process sees around their data lake and approved the taxpayer experience in cognitive \n",
       "applications revenue was up 4 percent growth was led by security as well as solution areas \n",
       "like health supply chain and whether it's security we delivered strong double digit growth \n",
       "with our integrated software and services value proposition. In particular we continue to see\n",
       "good traction with our threat management software and services offerings including Q. Radar \n",
       "and resilient enter security intelligence operations consulting services which detect and \n",
       "respond to security threats for our clients. Panasonic for example is leveraging Q. Radar and\n",
       "related services to strengthen its threat management posture. Panasonic is also piloting. Our\n",
       "next Gen exports threat management offering in Watson health. We had broad based growth \n",
       "across areas including pair provider in government as clients look the harness data to create\n",
       "actionable insight we also had good results from our rather offerings which grew double \n",
       "digits this quarter and reached a new all time high in the number of active users. \n",
       "Transaction processing platforms revenue was consistent with last year as clients continue to\n",
       "commit to our platform for the longer term performance reflects the value we provide clients \n",
       "managing these vital workloads and their preference for predictability and I. T. Spent \n",
       "turning a profit for the segment we expanded pre tax margin by 2 points year to year. This \n",
       "reflects a lower level of workforce rebalancing this year mitigated by headwind and I. P. \n",
       "Income they continued investment in key strategic areas as we look forward essentially all of\n",
       "our software portfolio now runs on Lennix containers orchestrated by Cooper nineties we've \n",
       "introduced new offerings like \u001b[30;48;2;255;255;0mIBM\u001b[0m cloud integration platform. The digital business automation\n",
       "platform and Watson anywhere to further accelerate hybrid cloud adoption. And we have ongoing\n",
       "activities to educate all of IBM's employees on the journey to cloud which includes. Red hat \n",
       "skills. All of this better prepares us for the red hat acquisition moving to global business \n",
       "services. We continue the momentum from last year and delivered another solid quarter revenue\n",
       "grew 4 percent gross margin expanded 280 basis points we again had strong growth in \n",
       "consulting which was up 90 percent its clients embark on their digital journey to a cognitive\n",
       "enterprise. They are turning to G. B. S.. To help them with their strategy and implementation\n",
       "leveraging our deep industry expertise and innovative technology portfolio. The growth this \n",
       "quarter was led by digital strategy and I. Acts as well as consulting for cloud application \n",
       "migrations and our next generation enterprise application practice within cloud application \n",
       "migration GBS cloud advisory services works with enterprises to plan and implement a clear \n",
       "strategy and roadmap. For the hybrid cloud journey we're doing that's what Tribune publishing\n",
       "as they transform from a legacy print company to a digital company helping them determine the\n",
       "right environment for each of their applications and optimizing their migration to the cloud.\n",
       "Our next generation enterprise application offerings assist clients as they build and \n",
       "implement cloud native applications in areas such as workday sales force and S. For Hana. \u001b[30;48;2;255;255;0mIBM\u001b[0m\n",
       "is now leading the market with over 200 S. For Hana impact assessments over 200 \n",
       "implementations and more than 125 goal lives and application management. We are shifting our \n",
       "business the Cloudbase offerings and continue to have good momentum in our cloud migration \n",
       "factory and cloud application development overall application management revenue was flat. \n",
       "Dude I'm going to clients in the traditional application management engagement and then \n",
       "global process services had solid performance in first quarter revenue was up 5 percent with \n",
       "strong performance and risk and compliance along with financial process services. Turning to \n",
       "G. B. S. Profit are gross margin was 26 percent which is up to 180 basis points driven by our\n",
       "mix the higher value offerings. The yield on our productivity and utilization initiatives and\n",
       "a continuing help from currency given our global delivery mix. This enables us to make \n",
       "investments as we prepare for the red hat acquisition such as scaling our existing red hat \n",
       "practice to enhance our journey to cloud offerings for clients leveraging red hat \n",
       "capabilities we're also creating new offerings around advise build move and manage services \n",
       "through industry points of view and platform place in global technology services. As I \n",
       "mentioned last quarter we are taking actions to optimize our portfolio by exiting low value \n",
       "services content to increase margin profit in cash contribution and better position the \n",
       "business for the longer term. G. T. S. Place an important role in I. B. M.'s integrated value\n",
       "proposition building on its deep client relationships to shift our clients the hybrid cloud \n",
       "as we move through last year. We improve GTS profit and margin creating operating leverage \n",
       "this gives us a solid base from which we can deemphasized lower value contract and third \n",
       "party content enabling continued investment for chapter 2 of the clout and delivering \n",
       "sustained margin improvement. This is what we're focused. We saw this play out in the first \n",
       "quarter results as overall revenue decline. But gross margin expanded 110 basis points driven\n",
       "by the make shift a higher value. A live from cloud scale efficiencies and productivity \n",
       "improvement. So now looking at the GTS revenue by line of business infrastructure and cloud \n",
       "services was down 3 percent and technology support services was down to percent within \n",
       "infrastructure and cloud services. We continue to have solid growth in cloud revenue which \n",
       "was up 13 percent. This is driven by the backlog we're cloud is now over 30 percent of the \n",
       "total services outsourcing back well keep in mind most of the crowd opportunities ahead of \n",
       "us. 80 percent of the enterprise workloads which represent mission critical work. Have yet to\n",
       "move to the cloud as clients my great these workloads to a hybrid multi cloud environment. \n",
       "They faced increased complexity in managing their infrastructure. Because we've been running \n",
       "these workloads. We're better positioned to help our clients to build and manage these new \n",
       "environment during the first quarter we announced that we're moving and managing BMP perra \n",
       "ball and Santander. A couple of the largest banks in Europe the hybrid cloud that's on top of\n",
       "companies like Lloyd's Ali ons. Westpac. American Airlines and anthem insurance. The list \n",
       "goes on. That's all mission critical work starting to move and they're moving it with IBM. \n",
       "The portfolio actions I mentioned earlier create flexibility to invest in additional cloud \n",
       "capabilities to capture this high value growing market for example. All right B. M. Services \n",
       "for multi cloud management offering provides a single system to help enterprise simplify the \n",
       "management of the right T. Resources across multiple cloud providers on Prem and varmints and\n",
       "private clouds and as we prepare for the red hat acquisition we are investing to build on our\n",
       "partnership as a services integrator for red hat. To be a leader in hybrid multi cloud \n",
       "service in systems revenue was down 9 percent this quarter with the clients in \u001b[30;48;2;255;255;0mIBM\u001b[0m Z. \n",
       "Reflecting where we are in the product cycle in in storage. Driven by market and competitive \n",
       "dynamics that said we had good performance and power. This quarter \u001b[30;48;2;255;255;0mIBM\u001b[0m Z. Revenue decline 38 \n",
       "percent. I'll remind you we are wrapping on strong performance from last year. When we had 54\n",
       "percent growth we are 7 quarters into the Z. 14 cycle and the program continues to track I \n",
       "had of the prior program we had strong growth in volumes or ship MIPS and new workload MIPS \n",
       "continue to outpace our standard maps this growth is led by Lennix again this quarter in our \n",
       "single frame Z. 14 designed specifically for cloud data centers remains a growth driver. Our \n",
       "revenue grew for the sixth consecutive quarter up 9 percent driven by Lennix and the full \n",
       "roll out of our power 9 based architecture as clients look to handle more data intensive \n",
       "workloads in A. I.. Hannah and unix. They are turning to power 9 systems these systems are \n",
       "built to handle advanced analytics and cloud environment. Both the high end and entry level \n",
       "offerings posted strong growth this quarter its clients continue to adopt this new technology\n",
       "storage hardware was down 11 percent with the clients in both the high end and midrange \n",
       "offset by continued growth in all flash arrays performance reflects the clients in our high \n",
       "end which is tied to our mainframe cycle and the I'm going competitive dynamics and pricing \n",
       "pressure we are continuing to introduce new innovations and functionality to differentiate in\n",
       "this environment as we look to manage the portfolio for the market shift the flash looking at\n",
       "systems profit pre tax margin was down a point driven by a mix said when due to where we are \n",
       "in the C. 14 cycle so not turning the cash flow we generated 2.$3000000000 in cash from \n",
       "operations in the quarter excluding our financing receivables are free cash flow a \n",
       "1.$7000000000 is up about $350000000 a year to year this performance results in free cash \n",
       "flow of 12.$2000000000 over the last 12 months and continued strength in our normalized free \n",
       "cash flow realization rate which is 114 percent. Our cap backs decline reflects effective \n",
       "capital management in the strategy I mentioned earlier to de emphasize some lower value \n",
       "content. This reduces our capital requirements and so. Free cash flow came in were we \n",
       "expected. And there is no change in our full year outlook about $12000000000 looking at uses \n",
       "of cash. We returned 2.$3000000000 to \u001b[30;48;2;255;255;0mshareholders\u001b[0m in the quarter including 1.$4000000000 in \n",
       "dividends and over $900000000 of gross share repurchases. That's 10.$3000000000 over the last\n",
       "12 months. We bought back nearly 7000000 Cher's. And at the end of the quarter we had \n",
       "2.$4000000000 remaining in our buy back authorization I'll remind you we plan to suspend \n",
       "sherry purchase in 2020 and 2021. As we pay down debt for a red hat acquisition to get back \n",
       "to work targeted leverage ratio. Looking at the balance sheet we closed the quarter with the \n",
       "cash balance of over $18000000000 in total debt of $50000000000. Both of these are up from \n",
       "December as we prepare for the acquisition of red hat. Later in the year about 60 percent of \n",
       "our total debt is in support of our financing business. The leverage in our financing \n",
       "business remains at 9 to one. And the credit quality over financing receivables remain strong\n",
       "at 55 percent investment grade. That's 2 points better than a year ago. As a reminder our \n",
       "financing that will decrease throughout the year as a result of the winding down of our \n",
       "commercial we M. Content. So to summarize free cash flow was on track and our balance sheet \n",
       "reflects the strange required to support our continuing investments and returned to \n",
       "shareholders. So let me make a few summary comments in the quarter and our view of the year \n",
       "before we move on to queue in a in the first quarter we grew 8 T. High value segments led by \n",
       "global business services and cloud and cognitive software. Well our overall revenue reflects \n",
       "the \u001b[30;48;2;255;255;0mIBM\u001b[0m Z. Product cycle dynamics and a focus on de emphasizing lower value work in services \n",
       "across IBM. Our cloud growth xcelerated as we help our clients transition their business \n",
       "models the hybrid environment we had significant margin expansion with gross margin up over \n",
       "90 basis points this reflects our shift a higher value and our focus on productivity and \n",
       "operational efficiencies. What I characterize as improving fundamentals. We're continuing to \n",
       "prioritize our investments and announce additional actions to divest some businesses that are\n",
       "contributing to the integrated value proposition for our clients. And we're continuing our \n",
       "planning and preparation for the acquisition of red hat with this performance we continue to \n",
       "expect to deliver at least $13.90. Of operating \u001b[30;48;2;255;255;0mearnings\u001b[0m per share at about $12000000000 of \n",
       "free cash flow. I want to remind you what is and is not included in these expectations. And \n",
       "this is consistent with what we discussed last quarter we continue to expect red hat to close\n",
       "in the second half. Because the financial implications to the year are dependent on the \n",
       "timing of the closing. We have not included red hat in the expectations. In contrast the \n",
       "timing of the closing of our 2 remaining announced divestitures does not have a significant \n",
       "impact on the year. That's because we continue to expect the combination of the foregoing \n",
       "profit the gain on sale. The actions to address the structure and stranded costs. Yeah and \n",
       "the resulting benefit from these actions they have minimal impact to our profit and \u001b[30;48;2;255;255;0mearnings\u001b[0m \n",
       "per share for the year and so our guidance assumes these divestitures. Looking at the issue \n",
       "of \u001b[30;48;2;255;255;0mearnings\u001b[0m per share for the year we assume will deliver about 22 percent in the second \n",
       "quarter in line with the last couple of years and then looking at the second half we would \n",
       "expect the growth in the PS to be skewed to the fourth quarter. This assumes will close the \n",
       "software divestitures. In the second quarter with a gain effectively offset by the foregoing \n",
       "profit and the charges for actions to address the structure and stranded costs. In other \n",
       "words we expect it centrally. No impact to the second quarter. Looking at free cash flow we \n",
       "do expect an impact from the divestitures as well as some pre closing financing costs for the\n",
       "red hat acquisition. But with a solid start to the year free cash flow. We are comfortable \n",
       "that we can absorb these headwinds in the full your expectation of about $12000000000 and \n",
       "with that let me turn it back to Patricia for the queue in a. Thank you Jim.\n"
      ]
     },
     "metadata": {},
     "output_type": "display_data"
    }
   ],
   "source": [
    "keywords = kw_model.extract_keywords(body, highlight=True)"
   ]
  },
  {
   "cell_type": "code",
   "execution_count": 21,
   "metadata": {},
   "outputs": [
    {
     "data": {
      "text/plain": [
       "[('1995 statements involve', 0.415),\n",
       " ('issue earnings share', 0.4153),\n",
       " ('ibm want welcome', 0.4169),\n",
       " ('reporting 2019 updated', 0.4265),\n",
       " ('securities litigation reform', 0.46),\n",
       " ('company sec filings', 0.4629),\n",
       " ('murphy ibm ma', 0.4652),\n",
       " ('quarter 2019 earnings', 0.4762),\n",
       " ('patricia murphy ibm', 0.4981),\n",
       " ('earnings presentation jim', 0.5561)]"
      ]
     },
     "execution_count": 21,
     "metadata": {},
     "output_type": "execute_result"
    }
   ],
   "source": [
    "kw_model.extract_keywords(body, keyphrase_ngram_range=(3, 3), stop_words='english', \n",
    "                              use_maxsum=True, nr_candidates=20, top_n=10)\n"
   ]
  },
  {
   "cell_type": "code",
   "execution_count": 22,
   "metadata": {},
   "outputs": [
    {
     "data": {
      "text/plain": [
       "[('earnings presentation jim', 0.5561),\n",
       " ('europe hybrid cloud', -0.0045),\n",
       " ('regulatory process continue', 0.1805),\n",
       " ('non gap measures', 0.1978),\n",
       " ('arrays performance reflects', 0.0837),\n",
       " ('reshaping business address', 0.0736),\n",
       " ('pay debt red', 0.0417),\n",
       " ('cavanaugh ibm senior', 0.3487),\n",
       " ('miss patricia murphy', 0.2805),\n",
       " ('remind recently changes', 0.1393)]"
      ]
     },
     "execution_count": 22,
     "metadata": {},
     "output_type": "execute_result"
    }
   ],
   "source": [
    "kw_model.extract_keywords(body, keyphrase_ngram_range=(3, 3), stop_words='english', \n",
    "                              use_mmr=True, diversity=0.8, top_n=10)\n"
   ]
  },
  {
   "cell_type": "markdown",
   "metadata": {},
   "source": [
    "### [Refer this link to know more about KeyBert](https://pypi.org/project/keybert/)"
   ]
  },
  {
   "cell_type": "markdown",
   "metadata": {},
   "source": [
    "#### This notebook demonstrates how to summarize the text data using different approaches like BERT, GPT2, XLNET & Gensim. You can play around with different hyperparameters to evaluate the results."
   ]
  },
  {
   "cell_type": "code",
   "execution_count": null,
   "metadata": {},
   "outputs": [],
   "source": []
  }
 ],
 "metadata": {
  "kernelspec": {
   "display_name": "Python 3 (ipykernel)",
   "language": "python",
   "name": "python3"
  },
  "language_info": {
   "codemirror_mode": {
    "name": "ipython",
    "version": 3
   },
   "file_extension": ".py",
   "mimetype": "text/x-python",
   "name": "python",
   "nbconvert_exporter": "python",
   "pygments_lexer": "ipython3",
   "version": "3.8.9"
  }
 },
 "nbformat": 4,
 "nbformat_minor": 1
}
